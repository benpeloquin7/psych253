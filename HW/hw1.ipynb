{
 "cells": [
  {
   "cell_type": "markdown",
   "metadata": {},
   "source": [
    "### HW1\n",
    "\n",
    "**Author**: Ben Peloquin\n",
    "    \n",
    "**Date**: 20190406"
   ]
  },
  {
   "cell_type": "code",
   "execution_count": 1,
   "metadata": {},
   "outputs": [],
   "source": [
    "import h5py\n",
    "import pandas as pd\n",
    "import matplotlib.pyplot as plt\n",
    "import numpy as np\n",
    "import scipy.stats as stats\n",
    "import seaborn as sns\n",
    "import tqdm\n",
    "\n",
    "from hw1_utils import *\n",
    "\n",
    "sns.set_style(\"whitegrid\")\n",
    "\n",
    "%matplotlib inline"
   ]
  },
  {
   "cell_type": "markdown",
   "metadata": {},
   "source": [
    "Load data"
   ]
  },
  {
   "cell_type": "code",
   "execution_count": 2,
   "metadata": {},
   "outputs": [
    {
     "name": "stdout",
     "output_type": "stream",
     "text": [
      "[u'image_meta', u'images', u'neural_meta', u'time_averaged', u'time_averaged_trial_averaged', u'time_binned', u'time_binned_trial_averaged']\n"
     ]
    }
   ],
   "source": [
    "data_fp = \"ventral_neural_data.hdf5\"\n",
    "d_ventral = h5py.File(data_fp, 'r')\n",
    "print(d_ventral.keys())"
   ]
  },
  {
   "cell_type": "markdown",
   "metadata": {},
   "source": [
    "Utils"
   ]
  },
  {
   "cell_type": "code",
   "execution_count": 3,
   "metadata": {},
   "outputs": [],
   "source": [
    "def dimnames(dataset):\n",
    "    dims = dataset.dims  #get the dimension object\n",
    "    dimlist = [x.label for x in dims.keys()]  #get the label attribute\n",
    "    dimlist = map(str, dimlist)  #cast everything to string instead of \"unicode\" ... complicated rathole ... not strictly necessary\n",
    "    return dimlist"
   ]
  },
  {
   "cell_type": "code",
   "execution_count": 27,
   "metadata": {},
   "outputs": [],
   "source": [
    "#let's get the IT neural data -- time and trial averaged\n",
    "d_neural = d_ventral['time_averaged_trial_averaged']\n",
    "it_neurons = d_ventral['neural_meta']['IT_NEURONS']\n",
    "d_it_neurons = d_neural[:, it_neurons]\n",
    "\n",
    "#... and remind ourselves of the tensor shape\n",
    "# print('Shape:', d_it_neurons.shape)\n",
    "# print('Dimensions:', list(dimnames(d_neural)))"
   ]
  },
  {
   "cell_type": "markdown",
   "metadata": {},
   "source": [
    "Basic data"
   ]
  },
  {
   "cell_type": "code",
   "execution_count": 5,
   "metadata": {},
   "outputs": [
    {
     "name": "stdout",
     "output_type": "stream",
     "text": [
      "(28, 640, 296)\n",
      "(51, 2560, 296)\n",
      "(47, 2560, 296)\n",
      "Reminder about dims:\n",
      "[<\"trial\" dimension 0 of HDF5 dataset at 112152050288>, <\"image\" dimension 1 of HDF5 dataset at 112152050288>, <\"neuron\" dimension 2 of HDF5 dataset at 112152050288>]\n"
     ]
    }
   ],
   "source": [
    "d_time_averaged = d_ventral['time_averaged']\n",
    "print(d_time_averaged['variation_level_0'].shape)\n",
    "print(d_time_averaged['variation_level_3'].shape)\n",
    "print(d_time_averaged['variation_level_6'].shape)\n",
    "print(\"Reminder about dims:\")\n",
    "print(list(d_time_averaged['variation_level_0'].dims.keys()))"
   ]
  },
  {
   "cell_type": "markdown",
   "metadata": {},
   "source": [
    "## Problem 1: Reliability computation on time-averaged responses\n",
    "\n",
    "Outstanding things (Ben / Marc):\n",
    "* Do we want to aggregate over conditions?\n",
    "* Can we use random indices permutations for all neurons? (for runtime efficiency)"
   ]
  },
  {
   "cell_type": "markdown",
   "metadata": {},
   "source": [
    "### Reliability of each neuron\n",
    "\n",
    "* First compute the reliability for each neuron using the methods described in the class\n",
    "* Perform a significance test on the population of all the neurons to determine whether the population is significantly reliable or not\n",
    "\n",
    "In the report, please describe your methods for computing the reliability, choose your own significance level, and report the results of significance test properly (refer to section 3 for details)."
   ]
  },
  {
   "cell_type": "markdown",
   "metadata": {},
   "source": [
    "[BP] We'll use `split-half reliability` to compute reliability for each neuron. This means we're going to look at average activation for each neuron, aggregating over objects and conditions.\n",
    "\n",
    "Remember from class we concluded that `having num_splits ~ 10 * num_trials is good enough`"
   ]
  },
  {
   "cell_type": "code",
   "execution_count": 6,
   "metadata": {},
   "outputs": [
    {
     "data": {
      "text/plain": [
       "(28, 640, 296)"
      ]
     },
     "execution_count": 6,
     "metadata": {},
     "output_type": "execute_result"
    }
   ],
   "source": [
    "d_time_averaged['variation_level_0'].shape"
   ]
  },
  {
   "cell_type": "markdown",
   "metadata": {},
   "source": [
    "\n",
    "\n",
    "For this first question, we're going to aggregate over specific images, trials and conditions."
   ]
  },
  {
   "cell_type": "code",
   "execution_count": 16,
   "metadata": {},
   "outputs": [
    {
     "name": "stdout",
     "output_type": "stream",
     "text": [
      "(28, 640, 296)\n"
     ]
    }
   ],
   "source": [
    "# Get average trial data by averaging for images???\n",
    "# Combine conditions???\n",
    "# d_neuron_by_trial = np.concatenate([np.mean(d_time_averaged['variation_level_0'], axis=1),\n",
    "#                                     np.mean(d_time_averaged['variation_level_3'], axis=1),\n",
    "#                                     np.mean(d_time_averaged['variation_level_6'], axis=1)])\n",
    "\n",
    "d_neuron_by_trial = d_time_averaged['variation_level_0']\n",
    "print(d_neuron_by_trial.shape)"
   ]
  },
  {
   "cell_type": "code",
   "execution_count": 8,
   "metadata": {},
   "outputs": [
    {
     "name": "stderr",
     "output_type": "stream",
     "text": [
      "100%|██████████| 296/296 [02:16<00:00,  2.17it/s]\n"
     ]
    }
   ],
   "source": [
    "reliabilities = get_all_neuron_reliabilities(d_neuron_by_trial, 20, 10)\n",
    "reliabilities.shape"
   ]
  },
  {
   "cell_type": "code",
   "execution_count": 17,
   "metadata": {},
   "outputs": [],
   "source": [
    "# num_splits = 10\n",
    "# num_trials = 20\n",
    "# results = []\n",
    "# for split_idx in tqdm.tqdm(range(num_splits)):\n",
    "#     first_half, second_half = create_random_split(d_neuron_by_trial, num_trials, split_idx)\n",
    "#     d_first_half = np.array(d_neuron_by_trial)[:, first_half, :].mean(1)\n",
    "#     d_second_half = np.array(d_neuron_by_trial)[:, second_half, :].mean(1)\n",
    "#     rs = []\n",
    "#     for neuron_idx in range(d_first_half.shape[1]):\n",
    "#         rs.append(stats.pearsonr(d_first_half[:, neuron_idx], d_second_half[:, neuron_idx])[0])\n",
    "#     results.append(np.array(rs))\n",
    "# results = np.stack(results)    "
   ]
  },
  {
   "cell_type": "code",
   "execution_count": 12,
   "metadata": {},
   "outputs": [],
   "source": [
    "# Get neuron population mean and standar deviation\n",
    "means = np.mean(reliabilities, axis=1)\n",
    "stds = np.std(reliabilities, axis=1)"
   ]
  },
  {
   "cell_type": "markdown",
   "metadata": {},
   "source": [
    "### Reliability by neuron"
   ]
  },
  {
   "cell_type": "code",
   "execution_count": 13,
   "metadata": {},
   "outputs": [
    {
     "data": {
      "text/plain": [
       "Text(0.5,0,'Neuron')"
      ]
     },
     "execution_count": 13,
     "metadata": {},
     "output_type": "execute_result"
    },
    {
     "data": {
      "image/png": "[encoded data removed]",
      "text/plain": [
       "<Figure size 432x288 with 1 Axes>"
      ]
     },
     "metadata": {
      "needs_background": "light"
     },
     "output_type": "display_data"
    }
   ],
   "source": [
    "neurons = np.arange(296)\n",
    "plt.plot(neurons, means)\n",
    "plt.fill_between(neurons, means - stds, means + stds, color='b', alpha = 0.2)\n",
    "plt.ylabel(\"Correlation\")\n",
    "plt.xlabel(\"Neuron\")"
   ]
  },
  {
   "cell_type": "markdown",
   "metadata": {},
   "source": [
    "### Population-level reliability\n",
    "\n",
    "Just inspecting this plot we'd conclude that none of the individual neurons look significantly reliable.\n",
    "\n",
    "We can test this formally assessing whether the population average is significantly different from 0."
   ]
  },
  {
   "cell_type": "code",
   "execution_count": 14,
   "metadata": {},
   "outputs": [
    {
     "data": {
      "text/plain": [
       "<matplotlib.lines.Line2D at 0x1a1cc8b710>"
      ]
     },
     "execution_count": 14,
     "metadata": {},
     "output_type": "execute_result"
    },
    {
     "data": {
      "image/png": "[encoded data removed]",
      "text/plain": [
       "<Figure size 432x288 with 1 Axes>"
      ]
     },
     "metadata": {
      "needs_background": "light"
     },
     "output_type": "display_data"
    }
   ],
   "source": [
    "plt.hist(means)\n",
    "plt.ylabel(\"Count\")\n",
    "plt.xlabel(\"Correlation\")\n",
    "plt.axvline(x=np.mean(means), c='red', ls='--')"
   ]
  },
  {
   "cell_type": "code",
   "execution_count": null,
   "metadata": {},
   "outputs": [],
   "source": []
  },
  {
   "cell_type": "code",
   "execution_count": 19,
   "metadata": {},
   "outputs": [
    {
     "data": {
      "text/plain": [
       "Ttest_1sampResult(statistic=24.318922365628666, pvalue=1.8899296803534524e-72)"
      ]
     },
     "execution_count": 19,
     "metadata": {},
     "output_type": "execute_result"
    }
   ],
   "source": [
    "n = len(means)\n",
    "stats.ttest_1samp(means, 0.)"
   ]
  },
  {
   "cell_type": "markdown",
   "metadata": {},
   "source": [
    "* To compute the reliability for a single neuron we used the split-half using `20 splits` with `10 trials` each. For each neuron this gave 20 reliability estimates we used to compute the mean and std.\n",
    "* We examined the distribution over mean reliability measures for the entire population in the histogram plot and performed a t-test to assess whether the average reliability was significantly different than 0. We found that the population was significantly reliable.\n",
    "```\n",
    " t(295) = 24.31, p < 1e-70\n",
    "```"
   ]
  },
  {
   "cell_type": "markdown",
   "metadata": {},
   "source": [
    "### Reliability by areas\n",
    "\n",
    "Test whether reliability of V4 neurons is significantly different from that of IT neurons.\n",
    "* Choose a significance level and report the significance test results properly. \n"
   ]
  },
  {
   "cell_type": "code",
   "execution_count": 38,
   "metadata": {},
   "outputs": [],
   "source": [
    "IT_neurons = d_ventral['neural_meta']['IT_NEURONS']\n",
    "v4_neurons = d_ventral['neural_meta']['V4_NEURONS']\n",
    "d_it = np.array(d_time_averaged['variation_level_0'])[:, :, IT_neurons]\n",
    "d_v4 = np.array(d_time_averaged['variation_level_0'])[:, :, v4_neurons]"
   ]
  },
  {
   "cell_type": "code",
   "execution_count": 37,
   "metadata": {},
   "outputs": [
    {
     "data": {
      "text/plain": [
       "128"
      ]
     },
     "execution_count": 37,
     "metadata": {},
     "output_type": "execute_result"
    }
   ],
   "source": [
    "len(v4_neurons)"
   ]
  },
  {
   "cell_type": "code",
   "execution_count": null,
   "metadata": {},
   "outputs": [
    {
     "name": "stderr",
     "output_type": "stream",
     "text": [
      "\n",
      "\n",
      "\n",
      "  0%|          | 0/168 [00:00<?, ?it/s]\u001b[A\u001b[A\u001b[A\n",
      "\n",
      "\n",
      "  1%|          | 1/168 [00:00<01:37,  1.71it/s]\u001b[A\u001b[A\u001b[A\n",
      "\n",
      "\n",
      "  1%|          | 2/168 [00:01<01:33,  1.77it/s]\u001b[A\u001b[A\u001b[A\n",
      "\n",
      "\n",
      "  2%|▏         | 3/168 [00:01<01:31,  1.81it/s]\u001b[A\u001b[A\u001b[A\n",
      "\n",
      "\n",
      "  2%|▏         | 4/168 [00:02<01:27,  1.88it/s]\u001b[A\u001b[A\u001b[A\n",
      "\n",
      "\n",
      "  3%|▎         | 5/168 [00:02<01:24,  1.93it/s]\u001b[A\u001b[A\u001b[A\n",
      "\n",
      "\n",
      "  4%|▎         | 6/168 [00:03<01:21,  1.98it/s]\u001b[A\u001b[A\u001b[A\n",
      "\n",
      "\n",
      "  4%|▍         | 7/168 [00:03<01:21,  1.98it/s]\u001b[A\u001b[A\u001b[A\n",
      "\n",
      "\n",
      "  5%|▍         | 8/168 [00:04<01:19,  2.00it/s]\u001b[A\u001b[A\u001b[A\n",
      "\n",
      "\n",
      "  5%|▌         | 9/168 [00:04<01:19,  2.01it/s]\u001b[A\u001b[A\u001b[A\n",
      "\n",
      "\n",
      "  6%|▌         | 10/168 [00:05<01:20,  1.95it/s]\u001b[A\u001b[A\u001b[A\n",
      "\n",
      "\n",
      "  7%|▋         | 11/168 [00:05<01:19,  1.98it/s]\u001b[A\u001b[A\u001b[A\n",
      "\n",
      "\n",
      "  7%|▋         | 12/168 [00:06<01:18,  1.99it/s]\u001b[A\u001b[A\u001b[A\n",
      "\n",
      "\n",
      "  8%|▊         | 13/168 [00:06<01:16,  2.02it/s]\u001b[A\u001b[A\u001b[A\n",
      "\n",
      "\n",
      "  8%|▊         | 14/168 [00:07<01:15,  2.03it/s]\u001b[A\u001b[A\u001b[A\n",
      "\n",
      "\n",
      "  9%|▉         | 15/168 [00:07<01:14,  2.04it/s]\u001b[A\u001b[A\u001b[A\n",
      "\n",
      "\n",
      " 10%|▉         | 16/168 [00:08<01:14,  2.04it/s]\u001b[A\u001b[A\u001b[A\n",
      "\n",
      "\n",
      " 10%|█         | 17/168 [00:08<01:15,  2.00it/s]\u001b[A\u001b[A\u001b[A\n",
      "\n",
      "\n",
      " 11%|█         | 18/168 [00:09<01:24,  1.78it/s]\u001b[A\u001b[A\u001b[A\n",
      "\n",
      "\n",
      " 11%|█▏        | 19/168 [00:09<01:21,  1.83it/s]\u001b[A\u001b[A\u001b[A\n",
      "\n",
      "\n",
      " 12%|█▏        | 20/168 [00:10<01:18,  1.88it/s]\u001b[A\u001b[A\u001b[A\n",
      "\n",
      "\n",
      " 12%|█▎        | 21/168 [00:10<01:25,  1.73it/s]\u001b[A\u001b[A\u001b[A\n",
      "\n",
      "\n",
      " 13%|█▎        | 22/168 [00:11<01:42,  1.42it/s]\u001b[A\u001b[A\u001b[A\n",
      "\n",
      "\n",
      " 14%|█▎        | 23/168 [00:12<01:39,  1.46it/s]\u001b[A\u001b[A\u001b[A\n",
      "\n",
      "\n",
      " 14%|█▍        | 24/168 [00:13<01:56,  1.24it/s]\u001b[A\u001b[A\u001b[A\n",
      "\n",
      "\n",
      " 15%|█▍        | 25/168 [00:14<01:55,  1.24it/s]\u001b[A\u001b[A\u001b[A\n",
      "\n",
      "\n",
      " 15%|█▌        | 26/168 [00:15<01:47,  1.32it/s]\u001b[A\u001b[A\u001b[A\n",
      "\n",
      "\n",
      " 16%|█▌        | 27/168 [00:15<01:41,  1.39it/s]\u001b[A\u001b[A\u001b[A\n",
      "\n",
      "\n",
      " 17%|█▋        | 28/168 [00:16<01:34,  1.48it/s]\u001b[A\u001b[A\u001b[A\n",
      "\n",
      "\n",
      " 17%|█▋        | 29/168 [00:16<01:26,  1.61it/s]\u001b[A\u001b[A\u001b[A\n",
      "\n",
      "\n",
      " 18%|█▊        | 30/168 [00:17<01:26,  1.60it/s]\u001b[A\u001b[A\u001b[A\n",
      "\n",
      "\n",
      " 18%|█▊        | 31/168 [00:17<01:20,  1.71it/s]\u001b[A\u001b[A\u001b[A\n",
      "\n",
      "\n",
      " 19%|█▉        | 32/168 [00:18<01:27,  1.56it/s]\u001b[A\u001b[A\u001b[A\n",
      "\n",
      "\n",
      " 20%|█▉        | 33/168 [00:19<01:24,  1.60it/s]\u001b[A\u001b[A\u001b[A\n",
      "\n",
      "\n",
      " 20%|██        | 34/168 [00:19<01:18,  1.71it/s]\u001b[A\u001b[A\u001b[A\n",
      "\n",
      "\n",
      " 21%|██        | 35/168 [00:20<01:13,  1.81it/s]\u001b[A\u001b[A\u001b[A\n",
      "\n",
      "\n",
      " 21%|██▏       | 36/168 [00:20<01:09,  1.90it/s]\u001b[A\u001b[A\u001b[A\n",
      "\n",
      "\n",
      " 22%|██▏       | 37/168 [00:21<01:06,  1.98it/s]\u001b[A\u001b[A\u001b[A\n",
      "\n",
      "\n",
      " 23%|██▎       | 38/168 [00:21<01:04,  2.03it/s]\u001b[A\u001b[A\u001b[A\n",
      "\n",
      "\n",
      " 23%|██▎       | 39/168 [00:22<01:02,  2.06it/s]\u001b[A\u001b[A\u001b[A\n",
      "\n",
      "\n",
      " 24%|██▍       | 40/168 [00:22<01:00,  2.11it/s]\u001b[A\u001b[A\u001b[A\n",
      "\n",
      "\n",
      " 24%|██▍       | 41/168 [00:23<00:59,  2.13it/s]\u001b[A\u001b[A\u001b[A\n",
      "\n",
      "\n",
      " 25%|██▌       | 42/168 [00:23<00:59,  2.13it/s]\u001b[A\u001b[A\u001b[A\n",
      "\n",
      "\n",
      " 26%|██▌       | 43/168 [00:23<00:58,  2.12it/s]\u001b[A\u001b[A\u001b[A\n",
      "\n",
      "\n",
      " 26%|██▌       | 44/168 [00:24<00:57,  2.14it/s]\u001b[A\u001b[A\u001b[A\n",
      "\n",
      "\n",
      " 27%|██▋       | 45/168 [00:24<00:57,  2.15it/s]\u001b[A\u001b[A\u001b[A\n",
      "\n",
      "\n",
      " 27%|██▋       | 46/168 [00:25<01:00,  2.01it/s]\u001b[A\u001b[A\u001b[A\n",
      "\n",
      "\n",
      " 28%|██▊       | 47/168 [00:26<01:01,  1.96it/s]\u001b[A\u001b[A\u001b[A\n",
      "\n",
      "\n",
      " 29%|██▊       | 48/168 [00:26<01:02,  1.92it/s]\u001b[A\u001b[A\u001b[A\n",
      "\n",
      "\n",
      " 29%|██▉       | 49/168 [00:27<01:04,  1.85it/s]\u001b[A\u001b[A\u001b[A\n",
      "\n",
      "\n",
      " 30%|██▉       | 50/168 [00:27<01:05,  1.80it/s]\u001b[A\u001b[A\u001b[A\n",
      "\n",
      "\n",
      " 30%|███       | 51/168 [00:28<01:11,  1.63it/s]\u001b[A\u001b[A\u001b[A\n",
      "\n",
      "\n",
      " 31%|███       | 52/168 [00:29<01:10,  1.64it/s]\u001b[A\u001b[A\u001b[A\n",
      "\n",
      "\n",
      " 32%|███▏      | 53/168 [00:30<01:21,  1.41it/s]\u001b[A\u001b[A\u001b[A\n",
      "\n",
      "\n",
      " 32%|███▏      | 54/168 [00:30<01:16,  1.49it/s]\u001b[A\u001b[A\u001b[A\n",
      "\n",
      "\n",
      " 33%|███▎      | 55/168 [00:31<01:11,  1.59it/s]\u001b[A\u001b[A\u001b[A\n",
      "\n",
      "\n",
      " 33%|███▎      | 56/168 [00:31<01:12,  1.55it/s]\u001b[A\u001b[A\u001b[A\n",
      "\n",
      "\n",
      " 34%|███▍      | 57/168 [00:32<01:05,  1.68it/s]\u001b[A\u001b[A\u001b[A\n",
      "\n",
      "\n",
      " 35%|███▍      | 58/168 [00:33<01:13,  1.50it/s]\u001b[A\u001b[A\u001b[A\n",
      "\n",
      "\n",
      " 35%|███▌      | 59/168 [00:33<01:10,  1.55it/s]\u001b[A\u001b[A\u001b[A\n",
      "\n",
      "\n",
      " 36%|███▌      | 60/168 [00:34<01:05,  1.66it/s]\u001b[A\u001b[A\u001b[A\n",
      "\n",
      "\n",
      " 36%|███▋      | 61/168 [00:34<01:01,  1.75it/s]\u001b[A\u001b[A\u001b[A\n",
      "\n",
      "\n",
      " 37%|███▋      | 62/168 [00:35<00:59,  1.79it/s]\u001b[A\u001b[A\u001b[A\n",
      "\n",
      "\n",
      " 38%|███▊      | 63/168 [00:35<00:56,  1.87it/s]\u001b[A\u001b[A\u001b[A\n",
      "\n",
      "\n",
      " 38%|███▊      | 64/168 [00:36<00:52,  1.97it/s]\u001b[A\u001b[A\u001b[A\n",
      "\n",
      "\n",
      " 39%|███▊      | 65/168 [00:36<00:50,  2.05it/s]\u001b[A\u001b[A\u001b[A\n",
      "\n",
      "\n",
      " 39%|███▉      | 66/168 [00:37<00:48,  2.11it/s]\u001b[A\u001b[A\u001b[A\n",
      "\n",
      "\n",
      " 40%|███▉      | 67/168 [00:37<00:46,  2.16it/s]\u001b[A\u001b[A\u001b[A\n",
      "\n",
      "\n",
      " 40%|████      | 68/168 [00:37<00:46,  2.13it/s]\u001b[A\u001b[A\u001b[A\n",
      "\n",
      "\n",
      " 41%|████      | 69/168 [00:38<00:46,  2.11it/s]\u001b[A\u001b[A\u001b[A\n",
      "\n",
      "\n",
      " 42%|████▏     | 70/168 [00:38<00:46,  2.09it/s]\u001b[A\u001b[A\u001b[A\n",
      "\n",
      "\n",
      " 42%|████▏     | 71/168 [00:39<00:45,  2.12it/s]\u001b[A\u001b[A\u001b[A\n",
      "\n",
      "\n",
      " 43%|████▎     | 72/168 [00:39<00:44,  2.16it/s]\u001b[A\u001b[A\u001b[A\n",
      "\n",
      "\n",
      " 43%|████▎     | 73/168 [00:40<00:43,  2.19it/s]\u001b[A\u001b[A\u001b[A\n",
      "\n",
      "\n",
      " 44%|████▍     | 74/168 [00:40<00:42,  2.22it/s]\u001b[A\u001b[A\u001b[A\n",
      "\n",
      "\n",
      " 45%|████▍     | 75/168 [00:41<00:41,  2.23it/s]\u001b[A\u001b[A\u001b[A\n",
      "\n",
      "\n",
      " 45%|████▌     | 76/168 [00:41<00:40,  2.25it/s]\u001b[A\u001b[A\u001b[A\n",
      "\n",
      "\n",
      " 46%|████▌     | 77/168 [00:42<00:40,  2.23it/s]\u001b[A\u001b[A\u001b[A\n",
      "\n",
      "\n",
      " 46%|████▋     | 78/168 [00:42<00:42,  2.14it/s]\u001b[A\u001b[A\u001b[A\n",
      "\n",
      "\n",
      " 47%|████▋     | 79/168 [00:43<00:56,  1.57it/s]\u001b[A\u001b[A\u001b[A\n",
      "\n",
      "\n",
      " 48%|████▊     | 80/168 [00:44<00:56,  1.55it/s]\u001b[A\u001b[A\u001b[A\n",
      "\n",
      "\n",
      " 48%|████▊     | 81/168 [00:44<00:56,  1.54it/s]\u001b[A\u001b[A\u001b[A\n",
      "\n",
      "\n",
      " 49%|████▉     | 82/168 [00:45<00:51,  1.68it/s]\u001b[A\u001b[A\u001b[A\n",
      "\n",
      "\n",
      " 49%|████▉     | 83/168 [00:45<00:49,  1.72it/s]\u001b[A\u001b[A\u001b[A\n",
      "\n",
      "\n",
      " 50%|█████     | 84/168 [00:46<00:45,  1.83it/s]\u001b[A\u001b[A\u001b[A\n",
      "\n",
      "\n",
      " 51%|█████     | 85/168 [00:46<00:44,  1.86it/s]\u001b[A\u001b[A\u001b[A\n",
      "\n",
      "\n",
      " 51%|█████     | 86/168 [00:47<00:42,  1.93it/s]\u001b[A\u001b[A\u001b[A\n",
      "\n",
      "\n",
      " 52%|█████▏    | 87/168 [00:47<00:40,  2.01it/s]\u001b[A\u001b[A\u001b[A\n",
      "\n",
      "\n",
      " 52%|█████▏    | 88/168 [00:48<00:39,  2.03it/s]\u001b[A\u001b[A\u001b[A\n",
      "\n",
      "\n",
      " 53%|█████▎    | 89/168 [00:48<00:39,  2.02it/s]\u001b[A\u001b[A\u001b[A\n",
      "\n",
      "\n",
      " 54%|█████▎    | 90/168 [00:49<00:39,  1.99it/s]\u001b[A\u001b[A\u001b[A\n",
      "\n",
      "\n",
      " 54%|█████▍    | 91/168 [00:49<00:38,  1.98it/s]\u001b[A\u001b[A\u001b[A\n",
      "\n",
      "\n",
      " 55%|█████▍    | 92/168 [00:50<00:37,  2.03it/s]\u001b[A\u001b[A\u001b[A\n",
      "\n",
      "\n",
      " 55%|█████▌    | 93/168 [00:50<00:36,  2.08it/s]\u001b[A\u001b[A\u001b[A\n",
      "\n",
      "\n",
      " 56%|█████▌    | 94/168 [00:51<00:35,  2.11it/s]\u001b[A\u001b[A\u001b[A\n",
      "\n",
      "\n",
      " 57%|█████▋    | 95/168 [00:51<00:34,  2.14it/s]\u001b[A\u001b[A\u001b[A\n",
      "\n",
      "\n",
      " 57%|█████▋    | 96/168 [00:52<00:34,  2.09it/s]\u001b[A\u001b[A\u001b[A\n",
      "\n",
      "\n",
      " 58%|█████▊    | 97/168 [00:53<00:54,  1.29it/s]\u001b[A\u001b[A\u001b[A\n",
      "\n",
      "\n",
      " 58%|█████▊    | 98/168 [00:54<00:56,  1.23it/s]\u001b[A\u001b[A\u001b[A\n",
      "\n",
      "\n",
      " 59%|█████▉    | 99/168 [00:55<00:53,  1.28it/s]\u001b[A\u001b[A\u001b[A\n",
      "\n",
      "\n",
      " 60%|█████▉    | 100/168 [00:56<00:58,  1.17it/s]\u001b[A\u001b[A\u001b[A\n",
      "\n",
      "\n",
      " 60%|██████    | 101/168 [00:57<00:56,  1.19it/s]\u001b[A\u001b[A\u001b[A\n",
      "\n",
      "\n",
      " 61%|██████    | 102/168 [00:57<00:54,  1.22it/s]\u001b[A\u001b[A\u001b[A\n",
      "\n",
      "\n",
      " 61%|██████▏   | 103/168 [00:58<00:52,  1.23it/s]\u001b[A\u001b[A\u001b[A\n",
      "\n",
      "\n",
      " 62%|██████▏   | 104/168 [00:59<00:49,  1.30it/s]\u001b[A\u001b[A\u001b[A\n",
      "\n",
      "\n",
      " 62%|██████▎   | 105/168 [01:00<00:46,  1.34it/s]\u001b[A\u001b[A\u001b[A\n",
      "\n",
      "\n",
      " 63%|██████▎   | 106/168 [01:00<00:41,  1.51it/s]\u001b[A\u001b[A\u001b[A\n",
      "\n",
      "\n",
      " 64%|██████▎   | 107/168 [01:00<00:36,  1.66it/s]\u001b[A\u001b[A\u001b[A\n",
      "\n",
      "\n",
      " 64%|██████▍   | 108/168 [01:01<00:33,  1.78it/s]\u001b[A\u001b[A\u001b[A\n",
      "\n",
      "\n",
      " 65%|██████▍   | 109/168 [01:01<00:31,  1.89it/s]\u001b[A\u001b[A\u001b[A\n",
      "\n",
      "\n",
      " 65%|██████▌   | 110/168 [01:02<00:31,  1.82it/s]\u001b[A\u001b[A\u001b[A\n",
      "\n",
      "\n",
      " 66%|██████▌   | 111/168 [01:03<00:44,  1.27it/s]\u001b[A\u001b[A\u001b[A\n",
      "\n",
      "\n",
      " 67%|██████▋   | 112/168 [01:05<00:59,  1.06s/it]\u001b[A\u001b[A\u001b[A\n",
      "\n",
      "\n",
      " 67%|██████▋   | 113/168 [01:06<01:01,  1.11s/it]\u001b[A\u001b[A\u001b[A\n",
      "\n",
      "\n",
      " 68%|██████▊   | 114/168 [01:07<00:58,  1.09s/it]\u001b[A\u001b[A\u001b[A\n",
      "\n",
      "\n",
      " 68%|██████▊   | 115/168 [01:08<00:51,  1.04it/s]\u001b[A\u001b[A\u001b[A\n",
      "\n",
      "\n",
      " 69%|██████▉   | 116/168 [01:09<00:44,  1.18it/s]\u001b[A\u001b[A\u001b[A\n",
      "\n",
      "\n",
      " 70%|██████▉   | 117/168 [01:09<00:38,  1.32it/s]\u001b[A\u001b[A\u001b[A\n",
      "\n",
      "\n",
      " 70%|███████   | 118/168 [01:10<00:34,  1.47it/s]\u001b[A\u001b[A\u001b[A\n",
      "\n",
      "\n",
      " 71%|███████   | 119/168 [01:10<00:30,  1.60it/s]\u001b[A\u001b[A\u001b[A\n",
      "\n",
      "\n",
      " 71%|███████▏  | 120/168 [01:11<00:29,  1.65it/s]\u001b[A\u001b[A\u001b[A\n",
      "\n",
      "\n",
      " 72%|███████▏  | 121/168 [01:11<00:27,  1.72it/s]\u001b[A\u001b[A\u001b[A\n",
      "\n",
      "\n",
      " 73%|███████▎  | 122/168 [01:12<00:25,  1.79it/s]\u001b[A\u001b[A\u001b[A\n",
      "\n",
      "\n",
      " 73%|███████▎  | 123/168 [01:13<00:32,  1.38it/s]\u001b[A\u001b[A\u001b[A\n",
      "\n",
      "\n",
      " 74%|███████▍  | 124/168 [01:15<00:51,  1.18s/it]\u001b[A\u001b[A\u001b[A\n",
      "\n",
      "\n",
      " 74%|███████▍  | 125/168 [01:17<00:55,  1.29s/it]\u001b[A\u001b[A\u001b[A\n",
      "\n",
      "\n",
      " 75%|███████▌  | 126/168 [01:18<00:59,  1.41s/it]\u001b[A\u001b[A\u001b[A\n",
      "\n",
      "\n",
      " 76%|███████▌  | 127/168 [01:19<00:52,  1.29s/it]\u001b[A\u001b[A\u001b[A\n",
      "\n",
      "\n",
      " 76%|███████▌  | 128/168 [01:22<01:02,  1.56s/it]\u001b[A\u001b[A\u001b[A\n",
      "\n",
      "\n",
      " 77%|███████▋  | 129/168 [01:23<01:01,  1.57s/it]\u001b[A\u001b[A\u001b[A\n",
      "\n",
      "\n",
      " 77%|███████▋  | 130/168 [01:24<00:50,  1.33s/it]\u001b[A\u001b[A\u001b[A\n",
      "\n",
      "\n",
      " 78%|███████▊  | 131/168 [01:25<00:50,  1.36s/it]\u001b[A\u001b[A\u001b[A\n",
      "\n",
      "\n",
      " 79%|███████▊  | 132/168 [01:27<00:48,  1.36s/it]\u001b[A\u001b[A\u001b[A\n",
      "\n",
      "\n",
      " 79%|███████▉  | 133/168 [01:29<00:52,  1.51s/it]\u001b[A\u001b[A\u001b[A\n",
      "\n",
      "\n",
      " 80%|███████▉  | 134/168 [01:30<00:53,  1.59s/it]\u001b[A\u001b[A\u001b[A\n",
      "\n",
      "\n",
      " 80%|████████  | 135/168 [01:31<00:46,  1.41s/it]\u001b[A\u001b[A\u001b[A\n",
      "\n",
      "\n"
     ]
    },
    {
     "name": "stderr",
     "output_type": "stream",
     "text": [
      " 81%|████████  | 136/168 [01:32<00:39,  1.23s/it]\u001b[A\u001b[A\u001b[A\n",
      "\n",
      "\n",
      " 82%|████████▏ | 137/168 [01:33<00:34,  1.11s/it]\u001b[A\u001b[A\u001b[A\n",
      "\n",
      "\n",
      " 82%|████████▏ | 138/168 [01:34<00:31,  1.06s/it]\u001b[A\u001b[A\u001b[A\n",
      "\n",
      "\n",
      " 83%|████████▎ | 139/168 [01:35<00:30,  1.06s/it]\u001b[A\u001b[A\u001b[A\n",
      "\n",
      "\n",
      " 83%|████████▎ | 140/168 [01:36<00:29,  1.06s/it]\u001b[A\u001b[A\u001b[A\n",
      "\n",
      "\n",
      " 84%|████████▍ | 141/168 [01:37<00:27,  1.02s/it]\u001b[A\u001b[A\u001b[A\n",
      "\n",
      "\n",
      " 85%|████████▍ | 142/168 [01:38<00:25,  1.01it/s]\u001b[A\u001b[A\u001b[A\n",
      "\n",
      "\n",
      " 85%|████████▌ | 143/168 [01:39<00:26,  1.04s/it]\u001b[A\u001b[A\u001b[A\n",
      "\n",
      "\n",
      " 86%|████████▌ | 144/168 [01:40<00:25,  1.04s/it]\u001b[A\u001b[A\u001b[A"
     ]
    }
   ],
   "source": [
    "it_reliabilities = get_all_neuron_reliabilities(d_it, 40, 20)\n",
    "v4_reliabilities = get_all_neuron_reliabilities(d_v4, 40, 20)"
   ]
  },
  {
   "cell_type": "code",
   "execution_count": 48,
   "metadata": {},
   "outputs": [],
   "source": [
    "def hist_plot(a, b, a_name=None, b_name=None):\n",
    "    l0 = plt.hist(a, bins=20);\n",
    "    l1 = plt.hist(b, bins=20, alpha=0.5);\n",
    "    if a_name is not None and b_name is not None:\n",
    "        plt.legend([l0[2][0], l1[2][0]], [a_name, b_name])\n",
    "    plt.xlabel('Reliabilities (r)')\n",
    "    plt.ylabel('Count')"
   ]
  },
  {
   "cell_type": "code",
   "execution_count": 49,
   "metadata": {},
   "outputs": [],
   "source": [
    "it_means = it_reliabilities.mean(1)\n",
    "v4_means = v4_reliabilities.mean(1)\n",
    "it_std = it_reliabilities.std(1)\n",
    "v4_std = v4_reliabilities.std(1)"
   ]
  },
  {
   "cell_type": "code",
   "execution_count": 91,
   "metadata": {},
   "outputs": [
    {
     "ename": "ValueError",
     "evalue": "all the input array dimensions except for the concatenation axis must match exactly",
     "output_type": "error",
     "traceback": [
      "\u001b[0;31m---------------------------------------------------------------------------\u001b[0m",
      "\u001b[0;31mValueError\u001b[0m                                Traceback (most recent call last)",
      "\u001b[0;32m<ipython-input-91-c2193267dba5>\u001b[0m in \u001b[0;36m<module>\u001b[0;34m()\u001b[0m\n\u001b[0;32m----> 1\u001b[0;31m \u001b[0mnp\u001b[0m\u001b[0;34m.\u001b[0m\u001b[0mconcatenate\u001b[0m\u001b[0;34m(\u001b[0m\u001b[0;34m(\u001b[0m\u001b[0md_time_averaged\u001b[0m\u001b[0;34m[\u001b[0m\u001b[0;34m'variation_level_0'\u001b[0m\u001b[0;34m]\u001b[0m\u001b[0;34m,\u001b[0m \u001b[0md_time_averaged\u001b[0m\u001b[0;34m[\u001b[0m\u001b[0;34m'variation_level_6'\u001b[0m\u001b[0;34m]\u001b[0m\u001b[0;34m)\u001b[0m\u001b[0;34m,\u001b[0m \u001b[0maxis\u001b[0m\u001b[0;34m=\u001b[0m\u001b[0;36m2\u001b[0m\u001b[0;34m)\u001b[0m\u001b[0;34m.\u001b[0m\u001b[0mshape\u001b[0m\u001b[0;34m\u001b[0m\u001b[0m\n\u001b[0m",
      "\u001b[0;31mValueError\u001b[0m: all the input array dimensions except for the concatenation axis must match exactly"
     ]
    }
   ],
   "source": [
    "np.concatenate((d_time_averaged['variation_level_0'], d_time_averaged['variation_level_6']), axis=2).shape"
   ]
  },
  {
   "cell_type": "code",
   "execution_count": 51,
   "metadata": {},
   "outputs": [
    {
     "data": {
      "image/png": "[encoded data removed]",
      "text/plain": [
       "<Figure size 432x288 with 1 Axes>"
      ]
     },
     "metadata": {
      "needs_background": "light"
     },
     "output_type": "display_data"
    }
   ],
   "source": [
    "hist_plot(it_means, v4_means, 'it', 'v4')"
   ]
  },
  {
   "cell_type": "code",
   "execution_count": 53,
   "metadata": {},
   "outputs": [
    {
     "data": {
      "text/plain": [
       "Ttest_indResult(statistic=1.7495727787055197, pvalue=0.08123543114962795)"
      ]
     },
     "execution_count": 53,
     "metadata": {},
     "output_type": "execute_result"
    }
   ],
   "source": [
    "n = len(means)\n",
    "stats.ttest_ind(it_means, v4_means)"
   ]
  },
  {
   "cell_type": "code",
   "execution_count": null,
   "metadata": {},
   "outputs": [],
   "source": []
  }
 ],
 "metadata": {
  "kernelspec": {
   "display_name": "Python 2",
   "language": "python",
   "name": "python2"
  },
  "language_info": {
   "codemirror_mode": {
    "name": "ipython",
    "version": 2
   },
   "file_extension": ".py",
   "mimetype": "text/x-python",
   "name": "python",
   "nbconvert_exporter": "python",
   "pygments_lexer": "ipython2",
   "version": "2.7.15"
  }
 },
 "nbformat": 4,
 "nbformat_minor": 2
}
