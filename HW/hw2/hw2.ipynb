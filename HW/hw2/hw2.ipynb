{
 "cells": [
  {
   "cell_type": "markdown",
   "metadata": {},
   "source": [
    "# HW2\n",
    "\n",
    "**Author**: Ben Peloquin\n",
    "\n",
    "**Collaborator**: Marc Harrison\n",
    "    \n",
    "**Date**: 20190507"
   ]
  },
  {
   "cell_type": "code",
   "execution_count": null,
   "metadata": {},
   "outputs": [],
   "source": [
    "import h5py\n",
    "import matplotlib.pyplot as plt\n",
    "import numpy as np\n",
    "import os\n",
    "import pandas as pd\n",
    "import random\n",
    "from scipy.stats import ttest_ind, f_oneway\n",
    "import seaborn as sns\n",
    "import sys\n",
    "import tqdm\n",
    "\n",
    "from sklearn.cross_decomposition import PLSRegression\n",
    "from sklearn.linear_model import LinearRegression, Ridge, RidgeCV, Lasso, LassoCV\n",
    "from sklearn.model_selection import train_test_split, GridSearchCV\n",
    "\n",
    "module_path = os.path.abspath(os.path.join('../..'))\n",
    "sys.path.append(module_path)\n",
    "print(module_path)\n",
    "from psych253.cross_validation import get_splits, train_and_test_scikit_classifier\n",
    "plt.style.use('ggplot')\n",
    "\n",
    "%matplotlib inline\n",
    "\n",
    "# Importing below so Chengxu doesn't have to scroll\n",
    "# endlessly for version warnings...\n",
    "\n",
    "import warnings\n",
    "warnings.filterwarnings('ignore')"
   ]
  },
  {
   "cell_type": "markdown",
   "metadata": {},
   "source": [
    "# Setup"
   ]
  },
  {
   "cell_type": "code",
   "execution_count": null,
   "metadata": {},
   "outputs": [],
   "source": [
    "data_fp = \"../data/ventral_neural_data.hdf5\"\n",
    "d_ventral = h5py.File(data_fp, 'r')\n",
    "print(d_ventral.keys())"
   ]
  },
  {
   "cell_type": "code",
   "execution_count": null,
   "metadata": {},
   "outputs": [],
   "source": [
    "chabo_mask = d_ventral['neural_meta']['ANIMAL_INFO'][:] == 'Chabo'\n",
    "tito_mask = d_ventral['neural_meta']['ANIMAL_INFO'][:] == 'Tito'\n",
    "\n",
    "chabo_idxs = np.array(range(d_ventral['neural_meta']['ANIMAL_INFO'].shape[0]))[chabo_mask]\n",
    "tito_idxs = np.array(range(d_ventral['neural_meta']['ANIMAL_INFO'].shape[0]))[tito_mask]"
   ]
  },
  {
   "cell_type": "markdown",
   "metadata": {},
   "source": [
    "## Question 1: Regression in neural data"
   ]
  },
  {
   "cell_type": "code",
   "execution_count": null,
   "metadata": {},
   "outputs": [],
   "source": [
    "v4_idxs = d_ventral['neural_meta']['V4_NEURONS'][:]\n",
    "it_idxs = d_ventral['neural_meta']['IT_NEURONS'][:]\n",
    "print(d_ventral['image_meta'].keys())\n",
    "d_all_sizes = d_ventral['image_meta']['size'][:]"
   ]
  },
  {
   "cell_type": "code",
   "execution_count": null,
   "metadata": {},
   "outputs": [],
   "source": [
    "# Features are neurons, prediction is size\n",
    "X_v4 = d_ventral['time_averaged_trial_averaged'][:, v4_idxs[:-40]]  # Remove bad last 40\n",
    "X_it = d_ventral['time_averaged_trial_averaged'][:, it_idxs]\n",
    "datas = [('V4', X_v4), ('IT', X_it)]\n",
    "y = d_all_sizes[:]\n",
    "assert(map(lambda x: x[1].shape[0]==y.shape[0], datas))"
   ]
  },
  {
   "cell_type": "markdown",
   "metadata": {},
   "source": [
    "### Question 1.1: Size regression from neural responses"
   ]
  },
  {
   "cell_type": "markdown",
   "metadata": {},
   "source": [
    "#### 1.1.1.a OLS regression"
   ]
  },
  {
   "cell_type": "code",
   "execution_count": 6,
   "metadata": {},
   "outputs": [],
   "source": [
    "def get_random_sample(X, size):\n",
    "    \"\"\"Helper for IT neurons\"\"\"\n",
    "    sample_idxs = random.sample(range(X.shape[len(X.shape)-1]), k=size)\n",
    "    return X[:, sample_idxs]\n",
    "\n",
    "def get_split_idxs(total, train_prop=0.8, max_size=None):\n",
    "    \"\"\"Return train and test split of indices.\n",
    "    \n",
    "    Parameters\n",
    "    ----------\n",
    "    total: int\n",
    "        Number indices.\n",
    "    train_prob: float [Default: 0.8]\n",
    "        Train size.\n",
    "    max_size: int [Default: None]\n",
    "        Limit max size (for sub-sampling)\n",
    "    \n",
    "    Returns\n",
    "    -------\n",
    "    tuple\n",
    "        Train and test indices.\n",
    "\n",
    "    \"\"\"\n",
    "    all_idxs = [i for i in range(total)]\n",
    "    np.random.shuffle(all_idxs)\n",
    "    if max_size is not None and max_size < total:\n",
    "        all_idxs = all_idxs[:max_size]\n",
    "    Xs = set(all_idxs[:int(len(all_idxs)*train_prop)])\n",
    "    ys = set(all_idxs) - Xs\n",
    "    return np.array(list(Xs)), np.array(list(ys))\n",
    "\n",
    "def r_squared(predicted, actual):\n",
    "    \"\"\"The \"rsquared\" metric\n",
    "    \"\"\"\n",
    "    a_mean = actual.mean()\n",
    "    num = np.linalg.norm(actual - predicted)**2\n",
    "    denom = np.linalg.norm(actual - a_mean)**2\n",
    "    return 1 - num / denom\n",
    "\n",
    "def run_model(model_klass, X_train, y_train, X_test, y_test, eval_fn=r_squared):\n",
    "    \"\"\"Run model helper.\n",
    "    \n",
    "    Parameters\n",
    "    ----------\n",
    "    model_klass: sklearn model object\n",
    "        Sklearn model.\n",
    "    X_train: np.array (num_examples, num_features)\n",
    "        Train features.\n",
    "    y_train: np.array (num_examples, )\n",
    "        Train supervision.\n",
    "    X_test: np.array (num_examples, num_features)\n",
    "        Test features.\n",
    "    y_test: np.array (num_examples, )\n",
    "        Test supervision.\n",
    "        \n",
    "    Returns\n",
    "    -------\n",
    "    tuple\n",
    "        Tuple of (float, float, sklearn object)\n",
    "    \n",
    "    \"\"\"\n",
    "    model = model_klass.fit(X_train, y_train)\n",
    "    # Preds\n",
    "    train_preds = model.predict(X_train)\n",
    "    test_preds = model.predict(X_test)\n",
    "    train_preds = train_preds.squeeze()\n",
    "    test_preds = test_preds.squeeze()\n",
    "    train_loss = eval_fn(train_preds, y_train)\n",
    "    test_loss = eval_fn(test_preds, y_test)\n",
    "    return train_loss, test_loss, model"
   ]
  },
  {
   "cell_type": "code",
   "execution_count": 7,
   "metadata": {},
   "outputs": [],
   "source": [
    "n_sims = 20\n",
    "max_size = 88\n",
    "train_prop = 0.8"
   ]
  },
  {
   "cell_type": "code",
   "execution_count": 8,
   "metadata": {},
   "outputs": [
    {
     "name": "stderr",
     "output_type": "stream",
     "text": [
      "100%|██████████| 20/20 [00:02<00:00,  6.80it/s]\n"
     ]
    }
   ],
   "source": [
    "d_results = []\n",
    "for sim_idx in tqdm.tqdm(range(n_sims)):\n",
    "    train_idxs, test_idxs = current_indices = \\\n",
    "            get_split_idxs(len(y), train_prop)\n",
    "    # Note (BP): Here we sub-sample IT to have same \n",
    "    # size (88) as V4 with bad ones removed...\n",
    "    X_it_partial = get_random_sample(X_it, size=max_size)\n",
    "    datas.append((\"IT_partial\", X_it_partial))\n",
    "    for roi, X in datas:\n",
    "        # Partition into train and test\n",
    "        X_train = X[train_idxs, :]\n",
    "        y_train = y[train_idxs]\n",
    "        X_test = X[test_idxs, :]\n",
    "        y_test = y[test_idxs]\n",
    "\n",
    "        # Fit model\n",
    "        train_perf, test_perf, _ = \\\n",
    "            run_model(LinearRegression(), X_train, y_train, X_test, y_test)\n",
    "        \n",
    "        d_results.append({\n",
    "            \"sim_idx\": sim_idx,\n",
    "            \"roi\": roi,\n",
    "            \"train_r2\": train_perf,\n",
    "            \"test_r2\": test_perf\n",
    "        })\n",
    "\n",
    "df_results = pd.DataFrame(d_results)"
   ]
  },
  {
   "cell_type": "code",
   "execution_count": 9,
   "metadata": {},
   "outputs": [
    {
     "data": {
      "text/html": [
       "<div>\n",
       "<style scoped>\n",
       "    .dataframe tbody tr th:only-of-type {\n",
       "        vertical-align: middle;\n",
       "    }\n",
       "\n",
       "    .dataframe tbody tr th {\n",
       "        vertical-align: top;\n",
       "    }\n",
       "\n",
       "    .dataframe thead th {\n",
       "        text-align: right;\n",
       "    }\n",
       "</style>\n",
       "<table border=\"1\" class=\"dataframe\">\n",
       "  <thead>\n",
       "    <tr style=\"text-align: right;\">\n",
       "      <th></th>\n",
       "      <th>roi</th>\n",
       "      <th>std</th>\n",
       "      <th>mean</th>\n",
       "    </tr>\n",
       "  </thead>\n",
       "  <tbody>\n",
       "    <tr>\n",
       "      <th>0</th>\n",
       "      <td>IT</td>\n",
       "      <td>0.030051</td>\n",
       "      <td>0.355067</td>\n",
       "    </tr>\n",
       "    <tr>\n",
       "      <th>1</th>\n",
       "      <td>IT_partial</td>\n",
       "      <td>0.031101</td>\n",
       "      <td>0.301741</td>\n",
       "    </tr>\n",
       "    <tr>\n",
       "      <th>2</th>\n",
       "      <td>V4</td>\n",
       "      <td>0.022380</td>\n",
       "      <td>0.134874</td>\n",
       "    </tr>\n",
       "  </tbody>\n",
       "</table>\n",
       "</div>"
      ],
      "text/plain": [
       "          roi       std      mean\n",
       "0          IT  0.030051  0.355067\n",
       "1  IT_partial  0.031101  0.301741\n",
       "2          V4  0.022380  0.134874"
      ]
     },
     "execution_count": 9,
     "metadata": {},
     "output_type": "execute_result"
    }
   ],
   "source": [
    "df_results \\\n",
    "    .groupby(['roi'])['test_r2'] \\\n",
    "    .aggregate({np.mean, np.std}) \\\n",
    "    .reset_index()"
   ]
  },
  {
   "cell_type": "code",
   "execution_count": 10,
   "metadata": {},
   "outputs": [
    {
     "data": {
      "image/png": "[encoded data removed]",
      "text/plain": [
       "<Figure size 432x288 with 2 Axes>"
      ]
     },
     "metadata": {
      "needs_background": "light"
     },
     "output_type": "display_data"
    }
   ],
   "source": [
    "plt.subplot(121)\n",
    "sns.barplot(x='roi', y='train_r2', ci=95, data=df_results)\n",
    "plt.ylim(0, 0.5)\n",
    "plt.title(\"Train performance\")\n",
    "plt.subplot(122)\n",
    "sns.barplot(x='roi', y='test_r2', ci=95, data=df_results)\n",
    "plt.ylim(0, 0.5)\n",
    "plt.title(\"Test performance\")\n",
    "plt.tight_layout()"
   ]
  },
  {
   "cell_type": "markdown",
   "metadata": {},
   "source": [
    "Let's run a t-test between the sub-sampled IT and V4"
   ]
  },
  {
   "cell_type": "code",
   "execution_count": 11,
   "metadata": {},
   "outputs": [
    {
     "data": {
      "text/plain": [
       "Ttest_indResult(statistic=-23.402615631678746, pvalue=1.506239159191877e-62)"
      ]
     },
     "execution_count": 11,
     "metadata": {},
     "output_type": "execute_result"
    }
   ],
   "source": [
    "a = df_results[df_results['roi']=='V4'].test_r2\n",
    "b = df_results[df_results['roi']=='IT_partial'].test_r2\n",
    "ttest_ind(a, b)"
   ]
  },
  {
   "cell_type": "markdown",
   "metadata": {},
   "source": [
    "Comparing average $r^2$ between V4 and subsampled IT we see a significant difference (IT is higher)."
   ]
  },
  {
   "cell_type": "markdown",
   "metadata": {},
   "source": [
    "#### 1.1.1.b  Ridge regression"
   ]
  },
  {
   "cell_type": "code",
   "execution_count": 12,
   "metadata": {},
   "outputs": [],
   "source": [
    "n_sims = 30\n",
    "max_size = 88\n",
    "train_prop = 0.8\n",
    "alphas = [1e-7, 1e-5, 1e-3, 1e-2, 1e-1, 1, 10, 100]\n",
    "models = [(\"ridge_{}\".format(alpha), Ridge(alpha=alpha)) for alpha in alphas]\n",
    "# Ordinary least squares\n",
    "models.append((\"ols\", LinearRegression()))\n",
    "# Ridge CV\n",
    "models.append((\"ridge_cv\", RidgeCV(alphas=alphas)))"
   ]
  },
  {
   "cell_type": "code",
   "execution_count": 13,
   "metadata": {},
   "outputs": [
    {
     "name": "stderr",
     "output_type": "stream",
     "text": [
      "100%|██████████| 30/30 [01:27<00:00,  3.67s/it]\n"
     ]
    }
   ],
   "source": [
    "d_results = []\n",
    "for sim_idx in tqdm.tqdm(range(n_sims)):\n",
    "    train_idxs, test_idxs = current_indices = \\\n",
    "            get_split_idxs(len(y), train_prop)\n",
    "    X_it_partial = get_random_sample(X_it, size=max_size)\n",
    "    datas.append((\"IT_partial\", X_it_partial))\n",
    "    for roi, X in datas:\n",
    "        # Partition into train and test\n",
    "        X_train = X[train_idxs, :]\n",
    "        y_train = y[train_idxs]\n",
    "        X_test = X[test_idxs, :]\n",
    "        y_test = y[test_idxs]\n",
    "        for model_nam, model in models:\n",
    "            # Fit model\n",
    "            train_perf, test_perf, _ = \\\n",
    "                run_model(model, X_train, y_train, X_test, y_test)\n",
    "\n",
    "            d_results.append({\n",
    "                \"sim_idx\": sim_idx,\n",
    "                \"model_name\": model_nam,\n",
    "                \"roi\": roi,\n",
    "                \"train_r2\": train_perf,\n",
    "                \"test_r2\": test_perf,\n",
    "                \"model_meta\": model.alpha_ if model_nam == \"ridge_cv\" else None\n",
    "            })\n",
    "\n",
    "df_results = pd.DataFrame(d_results)"
   ]
  },
  {
   "cell_type": "code",
   "execution_count": 16,
   "metadata": {},
   "outputs": [],
   "source": [
    "d_best = []\n",
    "for roi, group in (df_results \\\n",
    "    .groupby([\"model_name\", \"roi\"])[[\"test_r2\"]] \\\n",
    "    .aggregate({np.mean}) \\\n",
    "    .reset_index() \\\n",
    "    .groupby(\"roi\")):\n",
    "    best_idx = group['test_r2'].idxmax().values[0]\n",
    "    r2 = group[group.index==best_idx].test_r2.values[0][0]\n",
    "    model_name_ = group[group.index==best_idx].model_name.values[0]\n",
    "    d_best.append({\n",
    "        \"roi\": roi,\n",
    "        \"model\": model_name_,\n",
    "        \"r2\": r2\n",
    "    })\n",
    "df_best = pd.DataFrame(d_best)"
   ]
  },
  {
   "cell_type": "code",
   "execution_count": 17,
   "metadata": {},
   "outputs": [
    {
     "data": {
      "text/html": [
       "<div>\n",
       "<style scoped>\n",
       "    .dataframe tbody tr th:only-of-type {\n",
       "        vertical-align: middle;\n",
       "    }\n",
       "\n",
       "    .dataframe tbody tr th {\n",
       "        vertical-align: top;\n",
       "    }\n",
       "\n",
       "    .dataframe thead th {\n",
       "        text-align: right;\n",
       "    }\n",
       "</style>\n",
       "<table border=\"1\" class=\"dataframe\">\n",
       "  <thead>\n",
       "    <tr style=\"text-align: right;\">\n",
       "      <th></th>\n",
       "      <th>model</th>\n",
       "      <th>r2</th>\n",
       "      <th>roi</th>\n",
       "    </tr>\n",
       "  </thead>\n",
       "  <tbody>\n",
       "    <tr>\n",
       "      <th>0</th>\n",
       "      <td>ridge_cv</td>\n",
       "      <td>0.362164</td>\n",
       "      <td>IT</td>\n",
       "    </tr>\n",
       "    <tr>\n",
       "      <th>1</th>\n",
       "      <td>ridge_10</td>\n",
       "      <td>0.308064</td>\n",
       "      <td>IT_partial</td>\n",
       "    </tr>\n",
       "    <tr>\n",
       "      <th>2</th>\n",
       "      <td>ridge_100</td>\n",
       "      <td>0.140222</td>\n",
       "      <td>V4</td>\n",
       "    </tr>\n",
       "  </tbody>\n",
       "</table>\n",
       "</div>"
      ],
      "text/plain": [
       "       model        r2         roi\n",
       "0   ridge_cv  0.362164          IT\n",
       "1   ridge_10  0.308064  IT_partial\n",
       "2  ridge_100  0.140222          V4"
      ]
     },
     "execution_count": 17,
     "metadata": {},
     "output_type": "execute_result"
    }
   ],
   "source": [
    "df_best"
   ]
  },
  {
   "cell_type": "code",
   "execution_count": 18,
   "metadata": {},
   "outputs": [
    {
     "data": {
      "text/plain": [
       "[('IT', 'ridge_cv'), ('IT_partial', 'ridge_10'), ('V4', 'ridge_100')]"
      ]
     },
     "execution_count": 18,
     "metadata": {},
     "output_type": "execute_result"
    }
   ],
   "source": [
    "best_models = zip(df_best.roi.values, df_best.model.values)\n",
    "best_models"
   ]
  },
  {
   "cell_type": "code",
   "execution_count": 19,
   "metadata": {},
   "outputs": [],
   "source": [
    "# Filter best models\n",
    "df_bests = pd.concat(\n",
    "    [df_results[(df_results.roi == roi) & (df_results.model_name==model)] for roi, model in best_models])"
   ]
  },
  {
   "cell_type": "code",
   "execution_count": 20,
   "metadata": {},
   "outputs": [],
   "source": [
    "df_bests[\"best_model_for_roi\"] = \\\n",
    "    df_bests.apply(lambda x: \"{}_{}\".format(x[\"roi\"], x[\"model_name\"]), axis=1)"
   ]
  },
  {
   "cell_type": "code",
   "execution_count": 21,
   "metadata": {},
   "outputs": [
    {
     "data": {
      "text/plain": [
       "Text(0.5,1,'Best model by ROI')"
      ]
     },
     "execution_count": 21,
     "metadata": {},
     "output_type": "execute_result"
    },
    {
     "data": {
      "image/png": "[encoded data removed]",
      "text/plain": [
       "<Figure size 720x360 with 1 Axes>"
      ]
     },
     "metadata": {
      "needs_background": "light"
     },
     "output_type": "display_data"
    }
   ],
   "source": [
    "plt.figure(figsize=(10, 5))\n",
    "sns.barplot(x=\"best_model_for_roi\", y=\"test_r2\", ci=95, data=df_bests)\n",
    "plt.xlabel(\"Best model and roi\")\n",
    "plt.ylabel(\"Test r^2\")\n",
    "plt.title(\"Best model by ROI\")"
   ]
  },
  {
   "cell_type": "markdown",
   "metadata": {},
   "source": [
    "#### 1.1.1.c  Ridge regression with RidgeCV"
   ]
  },
  {
   "cell_type": "markdown",
   "metadata": {},
   "source": [
    "Let's look at the alpha value found by RidgeCV in our runs above..."
   ]
  },
  {
   "cell_type": "code",
   "execution_count": 22,
   "metadata": {},
   "outputs": [
    {
     "data": {
      "text/html": [
       "<div>\n",
       "<style scoped>\n",
       "    .dataframe tbody tr th:only-of-type {\n",
       "        vertical-align: middle;\n",
       "    }\n",
       "\n",
       "    .dataframe tbody tr th {\n",
       "        vertical-align: top;\n",
       "    }\n",
       "\n",
       "    .dataframe thead tr th {\n",
       "        text-align: left;\n",
       "    }\n",
       "</style>\n",
       "<table border=\"1\" class=\"dataframe\">\n",
       "  <thead>\n",
       "    <tr>\n",
       "      <th></th>\n",
       "      <th>roi</th>\n",
       "      <th>model_meta</th>\n",
       "      <th colspan=\"3\" halign=\"left\">test_r2</th>\n",
       "    </tr>\n",
       "    <tr>\n",
       "      <th></th>\n",
       "      <th></th>\n",
       "      <th></th>\n",
       "      <th>std</th>\n",
       "      <th>mean</th>\n",
       "      <th>count</th>\n",
       "    </tr>\n",
       "  </thead>\n",
       "  <tbody>\n",
       "    <tr>\n",
       "      <th>0</th>\n",
       "      <td>IT</td>\n",
       "      <td>100.0</td>\n",
       "      <td>0.017984</td>\n",
       "      <td>0.362164</td>\n",
       "      <td>30</td>\n",
       "    </tr>\n",
       "    <tr>\n",
       "      <th>1</th>\n",
       "      <td>IT_partial</td>\n",
       "      <td>10.0</td>\n",
       "      <td>0.025227</td>\n",
       "      <td>0.307035</td>\n",
       "      <td>969</td>\n",
       "    </tr>\n",
       "    <tr>\n",
       "      <th>2</th>\n",
       "      <td>IT_partial</td>\n",
       "      <td>100.0</td>\n",
       "      <td>0.016726</td>\n",
       "      <td>0.316966</td>\n",
       "      <td>96</td>\n",
       "    </tr>\n",
       "    <tr>\n",
       "      <th>3</th>\n",
       "      <td>V4</td>\n",
       "      <td>10.0</td>\n",
       "      <td>0.006912</td>\n",
       "      <td>0.126060</td>\n",
       "      <td>2</td>\n",
       "    </tr>\n",
       "    <tr>\n",
       "      <th>4</th>\n",
       "      <td>V4</td>\n",
       "      <td>100.0</td>\n",
       "      <td>0.016357</td>\n",
       "      <td>0.140633</td>\n",
       "      <td>28</td>\n",
       "    </tr>\n",
       "  </tbody>\n",
       "</table>\n",
       "</div>"
      ],
      "text/plain": [
       "          roi model_meta   test_r2                \n",
       "                               std      mean count\n",
       "0          IT      100.0  0.017984  0.362164    30\n",
       "1  IT_partial       10.0  0.025227  0.307035   969\n",
       "2  IT_partial      100.0  0.016726  0.316966    96\n",
       "3          V4       10.0  0.006912  0.126060     2\n",
       "4          V4      100.0  0.016357  0.140633    28"
      ]
     },
     "execution_count": 22,
     "metadata": {},
     "output_type": "execute_result"
    }
   ],
   "source": [
    "df_results[~df_results['model_meta'].isnull()] \\\n",
    "    .groupby(['roi', 'model_meta'])[['test_r2']] \\\n",
    "    .aggregate({np.mean, np.std, 'count'}) \\\n",
    "    .reset_index()[['roi', 'model_meta', 'test_r2']]"
   ]
  },
  {
   "cell_type": "markdown",
   "metadata": {},
   "source": [
    "Yes, we basically have the exact same outcome as explicitly running grid search over alpha values."
   ]
  },
  {
   "cell_type": "markdown",
   "metadata": {},
   "source": [
    "### Question 1.1.2: Predicting neural responses from neural responses"
   ]
  },
  {
   "cell_type": "code",
   "execution_count": 23,
   "metadata": {},
   "outputs": [],
   "source": [
    "chabo_v4_idxs = set(v4_idxs) & set(chabo_idxs)\n",
    "tito_v4_idxs = set(v4_idxs) & set(tito_idxs[:-40])\n",
    "\n",
    "# Only good v4 from both animal\n",
    "X_chabo_v4 = d_ventral['time_averaged_trial_averaged'][:, chabo_v4_idxs]\n",
    "X_tito_v4 = d_ventral['time_averaged_trial_averaged'][:, tito_v4_idxs] "
   ]
  },
  {
   "cell_type": "markdown",
   "metadata": {},
   "source": [
    "Let's predict `tito` from `chabo`."
   ]
  },
  {
   "cell_type": "code",
   "execution_count": 24,
   "metadata": {},
   "outputs": [],
   "source": [
    "n_sims = 30\n",
    "train_prob = 0.8\n",
    "max_size = None\n",
    "alphas = [1e-7, 1e-5, 1e-3, 1e-2, 1e-1, 1, 10, 100]\n",
    "n_components = [2**x for x in range(1, 7)]\n",
    "models = [(\"ridge\", RidgeCV(alphas=alphas)), (\"lasso\", LassoCV(alphas=alphas))]\n",
    "pls_models = [(\"pls_{}\".format(nc), PLSRegression(n_components=nc)) for nc in n_components]\n",
    "models.extend(pls_models)"
   ]
  },
  {
   "cell_type": "code",
   "execution_count": 55,
   "metadata": {},
   "outputs": [
    {
     "data": {
      "text/plain": [
       "False"
      ]
     },
     "execution_count": 55,
     "metadata": {},
     "output_type": "execute_result"
    }
   ],
   "source": [
    "'alpha_' in dir(models[0][1])"
   ]
  },
  {
   "cell_type": "code",
   "execution_count": 60,
   "metadata": {},
   "outputs": [],
   "source": [
    "n_sims = 30\n",
    "train_prob = 0.8\n",
    "max_size = None\n",
    "\n",
    "def predict_one_neuron(neuron_idx, models, X_tito, X_chabo, \n",
    "                       n_sims=30, train_prop=0.8, max_size=None, verbose=True):\n",
    "    \"\"\"Predict a single neuron in tito from chabo activations.\n",
    "    \n",
    "    Parameters\n",
    "    ----------\n",
    "    neuron_idx: int\n",
    "        Tito neuron index.\n",
    "    models: list\n",
    "        List of sklearn model objects (.fit() and .predict() methods)\n",
    "    X_tito: np.array\n",
    "        Tito dataset.\n",
    "    X_chabo: np.array\n",
    "        Chabo dataset.\n",
    "    n_sims: int [Default: 30]\n",
    "        Number of CV splits to run.\n",
    "    train_prop: float [Default 0.8]\n",
    "        CV train proportion.\n",
    "    max_size: int [Default: None]\n",
    "        Limit size of data in splits.\n",
    "    \n",
    "    Returns\n",
    "    -------\n",
    "    pd.DataFrame\n",
    "        Dataframe.\n",
    "    \n",
    "    \"\"\"\n",
    "    y = X_tito[:, neuron_idx]\n",
    "    X = X_chabo\n",
    "    d = []\n",
    "    for sim_idx in tqdm.tqdm(range(n_sims), disable=(not verbose)):\n",
    "        train_idxs, test_idxs = current_indices = \\\n",
    "                get_split_idxs(len(y), train_prop, max_size)\n",
    "        for model_name, model in models:\n",
    "            # Partition into train and test\n",
    "            X_train = X[train_idxs, :]\n",
    "            y_train = y[train_idxs]\n",
    "            X_test = X[test_idxs, :]\n",
    "            y_test = y[test_idxs]\n",
    "            train_perf, test_perf, model_ = \\\n",
    "                run_model(model, X_train, y_train, X_test, y_test)\n",
    "            if model_name[:3] == 'pls':\n",
    "                name = 'pls'\n",
    "                hyperparam = model_name.split(\"_\")[-1]\n",
    "            elif 'alpha' in dir(model_):\n",
    "                name = model_name\n",
    "                hyperparam = model_.alpha\n",
    "            elif 'alpha_' in dir(model_):\n",
    "                name = model_name\n",
    "                hyperparam = model_.alpha_\n",
    "            else:\n",
    "                raise Exception(\"Model is funky.\")\n",
    "                \n",
    "            d.append({\n",
    "                \"sim_idx\": sim_idx,\n",
    "                \"neuron_idx\": neuron_idx,\n",
    "                \"model_name\": name,\n",
    "                \"hyperparam\": hyperparam,\n",
    "                \"train_r2\": train_perf,\n",
    "                \"test_r2\": test_perf\n",
    "            })\n",
    "    return pd.DataFrame(d)"
   ]
  },
  {
   "cell_type": "code",
   "execution_count": 61,
   "metadata": {},
   "outputs": [
    {
     "name": "stderr",
     "output_type": "stream",
     "text": [
      "100%|██████████| 18/18 [00:21<00:00,  1.06s/it]\n"
     ]
    }
   ],
   "source": [
    "all_dfs = []\n",
    "for neuron_idx in tqdm.tqdm(range(X_tito_v4.shape[1])):\n",
    "    all_dfs.append(predict_one_neuron(neuron_idx, models, X_tito_v4, X_chabo_v4, verbose=False))"
   ]
  },
  {
   "cell_type": "code",
   "execution_count": 34,
   "metadata": {},
   "outputs": [],
   "source": [
    "df_chabo2tito = pd.concat(all_dfs)"
   ]
  },
  {
   "cell_type": "markdown",
   "metadata": {},
   "source": [
    "We fit these models over *all* Tito neurons.\n",
    "\n",
    "Let's first just aggregate over all the neurons."
   ]
  },
  {
   "cell_type": "code",
   "execution_count": 62,
   "metadata": {},
   "outputs": [
    {
     "data": {
      "text/html": [
       "<div>\n",
       "<style scoped>\n",
       "    .dataframe tbody tr th:only-of-type {\n",
       "        vertical-align: middle;\n",
       "    }\n",
       "\n",
       "    .dataframe tbody tr th {\n",
       "        vertical-align: top;\n",
       "    }\n",
       "\n",
       "    .dataframe thead th {\n",
       "        text-align: right;\n",
       "    }\n",
       "</style>\n",
       "<table border=\"1\" class=\"dataframe\">\n",
       "  <thead>\n",
       "    <tr style=\"text-align: right;\">\n",
       "      <th></th>\n",
       "      <th>model_name</th>\n",
       "      <th>hyperparam</th>\n",
       "      <th>std</th>\n",
       "      <th>mean</th>\n",
       "      <th>count</th>\n",
       "    </tr>\n",
       "  </thead>\n",
       "  <tbody>\n",
       "    <tr>\n",
       "      <th>0</th>\n",
       "      <td>lasso</td>\n",
       "      <td>1e-05</td>\n",
       "      <td>0.077179</td>\n",
       "      <td>0.482337</td>\n",
       "      <td>52</td>\n",
       "    </tr>\n",
       "    <tr>\n",
       "      <th>1</th>\n",
       "      <td>lasso</td>\n",
       "      <td>0.001</td>\n",
       "      <td>0.116311</td>\n",
       "      <td>0.396669</td>\n",
       "      <td>453</td>\n",
       "    </tr>\n",
       "    <tr>\n",
       "      <th>2</th>\n",
       "      <td>lasso</td>\n",
       "      <td>0.01</td>\n",
       "      <td>0.032052</td>\n",
       "      <td>0.189659</td>\n",
       "      <td>35</td>\n",
       "    </tr>\n",
       "    <tr>\n",
       "      <th>3</th>\n",
       "      <td>pls</td>\n",
       "      <td>16</td>\n",
       "      <td>0.119909</td>\n",
       "      <td>0.395414</td>\n",
       "      <td>540</td>\n",
       "    </tr>\n",
       "    <tr>\n",
       "      <th>4</th>\n",
       "      <td>pls</td>\n",
       "      <td>2</td>\n",
       "      <td>0.102428</td>\n",
       "      <td>0.342540</td>\n",
       "      <td>540</td>\n",
       "    </tr>\n",
       "    <tr>\n",
       "      <th>5</th>\n",
       "      <td>pls</td>\n",
       "      <td>32</td>\n",
       "      <td>0.119919</td>\n",
       "      <td>0.395400</td>\n",
       "      <td>540</td>\n",
       "    </tr>\n",
       "    <tr>\n",
       "      <th>6</th>\n",
       "      <td>pls</td>\n",
       "      <td>4</td>\n",
       "      <td>0.114562</td>\n",
       "      <td>0.386294</td>\n",
       "      <td>540</td>\n",
       "    </tr>\n",
       "    <tr>\n",
       "      <th>7</th>\n",
       "      <td>pls</td>\n",
       "      <td>64</td>\n",
       "      <td>0.119919</td>\n",
       "      <td>0.395400</td>\n",
       "      <td>540</td>\n",
       "    </tr>\n",
       "    <tr>\n",
       "      <th>8</th>\n",
       "      <td>pls</td>\n",
       "      <td>8</td>\n",
       "      <td>0.119281</td>\n",
       "      <td>0.394877</td>\n",
       "      <td>540</td>\n",
       "    </tr>\n",
       "    <tr>\n",
       "      <th>9</th>\n",
       "      <td>ridge</td>\n",
       "      <td>10</td>\n",
       "      <td>0.066333</td>\n",
       "      <td>0.506261</td>\n",
       "      <td>174</td>\n",
       "    </tr>\n",
       "    <tr>\n",
       "      <th>10</th>\n",
       "      <td>ridge</td>\n",
       "      <td>100</td>\n",
       "      <td>0.101350</td>\n",
       "      <td>0.345721</td>\n",
       "      <td>366</td>\n",
       "    </tr>\n",
       "  </tbody>\n",
       "</table>\n",
       "</div>"
      ],
      "text/plain": [
       "   model_name hyperparam       std      mean  count\n",
       "0       lasso      1e-05  0.077179  0.482337     52\n",
       "1       lasso      0.001  0.116311  0.396669    453\n",
       "2       lasso       0.01  0.032052  0.189659     35\n",
       "3         pls         16  0.119909  0.395414    540\n",
       "4         pls          2  0.102428  0.342540    540\n",
       "5         pls         32  0.119919  0.395400    540\n",
       "6         pls          4  0.114562  0.386294    540\n",
       "7         pls         64  0.119919  0.395400    540\n",
       "8         pls          8  0.119281  0.394877    540\n",
       "9       ridge         10  0.066333  0.506261    174\n",
       "10      ridge        100  0.101350  0.345721    366"
      ]
     },
     "execution_count": 62,
     "metadata": {},
     "output_type": "execute_result"
    }
   ],
   "source": [
    "df_chabo2tito \\\n",
    "    .groupby([\"model_name\", \"hyperparam\"])[\"test_r2\"] \\\n",
    "    .aggregate({np.mean, np.std, \"count\"}) \\\n",
    "    .reset_index()"
   ]
  },
  {
   "cell_type": "markdown",
   "metadata": {},
   "source": [
    "We'll just define the best model settings as the `Lasso` and `Rdige` model that is most often selected (has highest count) and we'll do additional preprocessing for `pls`."
   ]
  },
  {
   "cell_type": "code",
   "execution_count": 63,
   "metadata": {},
   "outputs": [],
   "source": [
    "df_chabo2tito_agg = df_chabo2tito \\\n",
    "    .groupby([\"model_name\", \"hyperparam\"])[\"test_r2\"] \\\n",
    "    .aggregate({np.mean, np.std, \"count\"}) \\\n",
    "    .reset_index()"
   ]
  },
  {
   "cell_type": "code",
   "execution_count": 64,
   "metadata": {},
   "outputs": [
    {
     "data": {
      "text/plain": [
       "[('lasso', 0.001), ('ridge', 100.0), ('pls', '16')]"
      ]
     },
     "execution_count": 64,
     "metadata": {},
     "output_type": "execute_result"
    }
   ],
   "source": [
    "def get_best_hyperparam(df, model):\n",
    "    if model == \"pls\":\n",
    "        best_idx = df \\\n",
    "            .query(\"model_name=='pls'\".format(model))[['mean']] \\\n",
    "            .idxmax()\n",
    "    else:\n",
    "        best_idx = df \\\n",
    "            .query(\"model_name=='{}'\".format(model))[['count']] \\\n",
    "            .idxmax()\n",
    "        \n",
    "    return df.iloc[best_idx]['hyperparam'].values[0]\n",
    "\n",
    "best_hyperparams = \\\n",
    "    map(lambda x: (x, get_best_hyperparam(df_chabo2tito_agg, x)), \n",
    "        ['lasso', 'ridge', 'pls'])\n",
    "best_hyperparams"
   ]
  },
  {
   "cell_type": "code",
   "execution_count": 65,
   "metadata": {},
   "outputs": [
    {
     "data": {
      "text/html": [
       "<div>\n",
       "<style scoped>\n",
       "    .dataframe tbody tr th:only-of-type {\n",
       "        vertical-align: middle;\n",
       "    }\n",
       "\n",
       "    .dataframe tbody tr th {\n",
       "        vertical-align: top;\n",
       "    }\n",
       "\n",
       "    .dataframe thead th {\n",
       "        text-align: right;\n",
       "    }\n",
       "</style>\n",
       "<table border=\"1\" class=\"dataframe\">\n",
       "  <thead>\n",
       "    <tr style=\"text-align: right;\">\n",
       "      <th></th>\n",
       "      <th>model_name</th>\n",
       "      <th>hyperparam</th>\n",
       "      <th>std</th>\n",
       "      <th>mean</th>\n",
       "      <th>count</th>\n",
       "    </tr>\n",
       "  </thead>\n",
       "  <tbody>\n",
       "    <tr>\n",
       "      <th>1</th>\n",
       "      <td>lasso</td>\n",
       "      <td>0.001</td>\n",
       "      <td>0.116311</td>\n",
       "      <td>0.396669</td>\n",
       "      <td>453</td>\n",
       "    </tr>\n",
       "    <tr>\n",
       "      <th>3</th>\n",
       "      <td>pls</td>\n",
       "      <td>16</td>\n",
       "      <td>0.119909</td>\n",
       "      <td>0.395414</td>\n",
       "      <td>540</td>\n",
       "    </tr>\n",
       "    <tr>\n",
       "      <th>10</th>\n",
       "      <td>ridge</td>\n",
       "      <td>100</td>\n",
       "      <td>0.101350</td>\n",
       "      <td>0.345721</td>\n",
       "      <td>366</td>\n",
       "    </tr>\n",
       "  </tbody>\n",
       "</table>\n",
       "</div>"
      ],
      "text/plain": [
       "   model_name hyperparam       std      mean  count\n",
       "1       lasso      0.001  0.116311  0.396669    453\n",
       "3         pls         16  0.119909  0.395414    540\n",
       "10      ridge        100  0.101350  0.345721    366"
      ]
     },
     "execution_count": 65,
     "metadata": {},
     "output_type": "execute_result"
    }
   ],
   "source": [
    "filtr = \\\n",
    "    ((df_chabo2tito_agg['model_name'] == best_hyperparams[0][0]) & \\\n",
    "    (df_chabo2tito_agg['hyperparam'] == best_hyperparams[0][1])) | \\\n",
    "    ((df_chabo2tito_agg['model_name'] == best_hyperparams[1][0]) & \\\n",
    "    (df_chabo2tito_agg['hyperparam'] == best_hyperparams[1][1])) | \\\n",
    "    ((df_chabo2tito_agg['model_name'] == best_hyperparams[2][0]) & \\\n",
    "     (df_chabo2tito_agg['hyperparam'] == best_hyperparams[2][1]))\n",
    "df_chabo2tito_agg[filtr]"
   ]
  },
  {
   "cell_type": "code",
   "execution_count": 66,
   "metadata": {},
   "outputs": [
    {
     "data": {
      "text/plain": [
       "<matplotlib.axes._subplots.AxesSubplot at 0x1a34d5c110>"
      ]
     },
     "execution_count": 66,
     "metadata": {},
     "output_type": "execute_result"
    },
    {
     "data": {
      "image/png": "[encoded data removed]",
      "text/plain": [
       "<Figure size 432x288 with 1 Axes>"
      ]
     },
     "metadata": {
      "needs_background": "light"
     },
     "output_type": "display_data"
    }
   ],
   "source": [
    "filtr = \\\n",
    "    ((df_chabo2tito['model_name'] == best_hyperparams[0][0]) & \\\n",
    "    (df_chabo2tito['hyperparam'] == best_hyperparams[0][1])) | \\\n",
    "    ((df_chabo2tito['model_name'] == best_hyperparams[1][0]) & \\\n",
    "    (df_chabo2tito['hyperparam'] == best_hyperparams[1][1])) | \\\n",
    "    ((df_chabo2tito['model_name'] == best_hyperparams[2][0]) & \\\n",
    "     (df_chabo2tito['hyperparam'] == best_hyperparams[2][1]))\n",
    "\n",
    "sns.barplot(x='model_name', y='test_r2', data=df_chabo2tito[filtr])"
   ]
  },
  {
   "cell_type": "markdown",
   "metadata": {},
   "source": [
    "* Lasso\n",
    "\n",
    "The last time we ran this `1e-3` had the second highest mean value, but was most often found to have the best r^2 value. So we're going to set the best Lasso to `1e-3`.\n",
    "* Ridge\n",
    "\n",
    "Clearly it's `100` for Ridge.\n",
    "\n",
    "* PLS\n",
    "\n",
    "It's hard to differentiate for the various `n_components` as they're all quite close. If we just choose the argmax for r^2 we'd go with `n_components=16`."
   ]
  },
  {
   "cell_type": "code",
   "execution_count": 76,
   "metadata": {},
   "outputs": [],
   "source": [
    "best_ridge = Ridge(alpha=100)\n",
    "best_lasso = Lasso(alpha=1e-3)\n",
    "best_pls = PLSRegression(n_components=16)\n",
    "models = [(\"ridge\", best_ridge), (\"lasso\", best_lasso), (\"pls_16\", best_pls)]"
   ]
  },
  {
   "cell_type": "code",
   "execution_count": 77,
   "metadata": {},
   "outputs": [
    {
     "name": "stderr",
     "output_type": "stream",
     "text": [
      "100%|██████████| 18/18 [00:20<00:00,  1.04s/it]\n"
     ]
    }
   ],
   "source": [
    "all_dfs_best = []\n",
    "for neuron_idx in tqdm.tqdm(range(X_tito_v4.shape[1])):\n",
    "    all_dfs_best.append(predict_one_neuron(neuron_idx, models, X_tito_v4, X_chabo_v4, verbose=False))"
   ]
  },
  {
   "cell_type": "code",
   "execution_count": 78,
   "metadata": {},
   "outputs": [],
   "source": [
    "df_bests = pd.concat(all_dfs_best)"
   ]
  },
  {
   "cell_type": "code",
   "execution_count": 79,
   "metadata": {},
   "outputs": [
    {
     "data": {
      "text/html": [
       "<div>\n",
       "<style scoped>\n",
       "    .dataframe tbody tr th:only-of-type {\n",
       "        vertical-align: middle;\n",
       "    }\n",
       "\n",
       "    .dataframe tbody tr th {\n",
       "        vertical-align: top;\n",
       "    }\n",
       "\n",
       "    .dataframe thead th {\n",
       "        text-align: right;\n",
       "    }\n",
       "</style>\n",
       "<table border=\"1\" class=\"dataframe\">\n",
       "  <thead>\n",
       "    <tr style=\"text-align: right;\">\n",
       "      <th></th>\n",
       "      <th>hyperparam</th>\n",
       "      <th>model_name</th>\n",
       "      <th>neuron_idx</th>\n",
       "      <th>sim_idx</th>\n",
       "      <th>test_r2</th>\n",
       "      <th>train_r2</th>\n",
       "    </tr>\n",
       "  </thead>\n",
       "  <tbody>\n",
       "    <tr>\n",
       "      <th>0</th>\n",
       "      <td>100</td>\n",
       "      <td>ridge</td>\n",
       "      <td>0</td>\n",
       "      <td>0</td>\n",
       "      <td>0.416405</td>\n",
       "      <td>0.415254</td>\n",
       "    </tr>\n",
       "    <tr>\n",
       "      <th>1</th>\n",
       "      <td>0.001</td>\n",
       "      <td>lasso</td>\n",
       "      <td>0</td>\n",
       "      <td>0</td>\n",
       "      <td>0.410789</td>\n",
       "      <td>0.408510</td>\n",
       "    </tr>\n",
       "    <tr>\n",
       "      <th>2</th>\n",
       "      <td>16</td>\n",
       "      <td>pls</td>\n",
       "      <td>0</td>\n",
       "      <td>0</td>\n",
       "      <td>0.418265</td>\n",
       "      <td>0.421556</td>\n",
       "    </tr>\n",
       "    <tr>\n",
       "      <th>3</th>\n",
       "      <td>100</td>\n",
       "      <td>ridge</td>\n",
       "      <td>0</td>\n",
       "      <td>1</td>\n",
       "      <td>0.402286</td>\n",
       "      <td>0.418016</td>\n",
       "    </tr>\n",
       "    <tr>\n",
       "      <th>4</th>\n",
       "      <td>0.001</td>\n",
       "      <td>lasso</td>\n",
       "      <td>0</td>\n",
       "      <td>1</td>\n",
       "      <td>0.397945</td>\n",
       "      <td>0.411625</td>\n",
       "    </tr>\n",
       "  </tbody>\n",
       "</table>\n",
       "</div>"
      ],
      "text/plain": [
       "  hyperparam model_name  neuron_idx  sim_idx   test_r2  train_r2\n",
       "0        100      ridge           0        0  0.416405  0.415254\n",
       "1      0.001      lasso           0        0  0.410789  0.408510\n",
       "2         16        pls           0        0  0.418265  0.421556\n",
       "3        100      ridge           0        1  0.402286  0.418016\n",
       "4      0.001      lasso           0        1  0.397945  0.411625"
      ]
     },
     "execution_count": 79,
     "metadata": {},
     "output_type": "execute_result"
    }
   ],
   "source": [
    "df_bests.head()"
   ]
  },
  {
   "cell_type": "code",
   "execution_count": 80,
   "metadata": {},
   "outputs": [
    {
     "data": {
      "text/plain": [
       "<matplotlib.axes._subplots.AxesSubplot at 0x1a34df1150>"
      ]
     },
     "execution_count": 80,
     "metadata": {},
     "output_type": "execute_result"
    },
    {
     "data": {
      "image/png": "[encoded data removed]",
      "text/plain": [
       "<Figure size 432x288 with 1 Axes>"
      ]
     },
     "metadata": {
      "needs_background": "light"
     },
     "output_type": "display_data"
    }
   ],
   "source": [
    "sns.barplot(x='model_name', y='test_r2', ci=95, data=df_bests)"
   ]
  },
  {
   "cell_type": "code",
   "execution_count": 81,
   "metadata": {},
   "outputs": [
    {
     "data": {
      "text/html": [
       "<div>\n",
       "<style scoped>\n",
       "    .dataframe tbody tr th:only-of-type {\n",
       "        vertical-align: middle;\n",
       "    }\n",
       "\n",
       "    .dataframe tbody tr th {\n",
       "        vertical-align: top;\n",
       "    }\n",
       "\n",
       "    .dataframe thead tr th {\n",
       "        text-align: left;\n",
       "    }\n",
       "\n",
       "    .dataframe thead tr:last-of-type th {\n",
       "        text-align: right;\n",
       "    }\n",
       "</style>\n",
       "<table border=\"1\" class=\"dataframe\">\n",
       "  <thead>\n",
       "    <tr>\n",
       "      <th></th>\n",
       "      <th colspan=\"2\" halign=\"left\">test_r2</th>\n",
       "    </tr>\n",
       "    <tr>\n",
       "      <th></th>\n",
       "      <th>std</th>\n",
       "      <th>mean</th>\n",
       "    </tr>\n",
       "    <tr>\n",
       "      <th>model_name</th>\n",
       "      <th></th>\n",
       "      <th></th>\n",
       "    </tr>\n",
       "  </thead>\n",
       "  <tbody>\n",
       "    <tr>\n",
       "      <th>lasso</th>\n",
       "      <td>0.121508</td>\n",
       "      <td>0.393842</td>\n",
       "    </tr>\n",
       "    <tr>\n",
       "      <th>pls</th>\n",
       "      <td>0.121970</td>\n",
       "      <td>0.394651</td>\n",
       "    </tr>\n",
       "    <tr>\n",
       "      <th>ridge</th>\n",
       "      <td>0.120202</td>\n",
       "      <td>0.396287</td>\n",
       "    </tr>\n",
       "  </tbody>\n",
       "</table>\n",
       "</div>"
      ],
      "text/plain": [
       "             test_r2          \n",
       "                 std      mean\n",
       "model_name                    \n",
       "lasso       0.121508  0.393842\n",
       "pls         0.121970  0.394651\n",
       "ridge       0.120202  0.396287"
      ]
     },
     "execution_count": 81,
     "metadata": {},
     "output_type": "execute_result"
    }
   ],
   "source": [
    "df_bests \\\n",
    "    .groupby('model_name')[['test_r2']] \\\n",
    "    .aggregate({np.mean, np.std})"
   ]
  },
  {
   "cell_type": "markdown",
   "metadata": {},
   "source": [
    "Ridge appears to win out, but there really appear indistinguishable. Let's run a one-way anova to test for a significant difference between models..."
   ]
  },
  {
   "cell_type": "code",
   "execution_count": 82,
   "metadata": {},
   "outputs": [
    {
     "data": {
      "text/plain": [
       "F_onewayResult(statistic=0.05702174979826504, pvalue=0.9445754241300122)"
      ]
     },
     "execution_count": 82,
     "metadata": {},
     "output_type": "execute_result"
    }
   ],
   "source": [
    "f_oneway(df_bests[df_bests['model_name']=='lasso'].test_r2, \n",
    "         df_bests[df_bests['model_name']=='ridge'].test_r2,\n",
    "         df_bests[df_bests['model_name']=='pls'].test_r2)"
   ]
  },
  {
   "cell_type": "markdown",
   "metadata": {},
   "source": [
    "Doesn't appear to be a significant difference."
   ]
  },
  {
   "cell_type": "markdown",
   "metadata": {},
   "source": [
    "## Question 1.2: Regression in self-regulation ontology data"
   ]
  },
  {
   "cell_type": "code",
   "execution_count": 187,
   "metadata": {},
   "outputs": [],
   "source": [
    "data_dir = \"../data/self_regulation_data\"\n",
    "df_task_survey = pd.read_csv(os.path.join(data_dir, \"task_survey_measures.csv\"))\n",
    "df_retest_task_survey = pd.read_csv(os.path.join(data_dir, \"retest_task_survey_measures.csv\"))\n",
    "df_regulation = pd.read_csv(os.path.join(data_dir, \"self_regulation_measures.csv\"))\n",
    "survey_cols = []\n",
    "task_cols = []\n",
    "for col in df_task_survey.columns[1:]:\n",
    "    if \"survey\" in col:\n",
    "        survey_cols.append(col)\n",
    "    else:\n",
    "        task_cols.append(col)        "
   ]
  },
  {
   "cell_type": "markdown",
   "metadata": {},
   "source": [
    "Let's see how many subjects were retested"
   ]
  },
  {
   "cell_type": "code",
   "execution_count": 188,
   "metadata": {},
   "outputs": [
    {
     "name": "stdout",
     "output_type": "stream",
     "text": [
      "Original:\t522\n",
      "Retested:\t150\n",
      "Prop:\t\t0.287\n"
     ]
    }
   ],
   "source": [
    "retested_subject_idxs = set(df_task_survey.subject_id) & set(df_retest_task_survey.subject_id)\n",
    "n_retested = len(retested_subject_idxs)\n",
    "total = len(set(df_task_survey.subject_id))\n",
    "print(\"Original:\\t{}\".format(total))\n",
    "print(\"Retested:\\t{}\".format(n_retested))\n",
    "print(\"Prop:\\t\\t{}\".format(round(float(n_retested) / total, 3)))"
   ]
  },
  {
   "cell_type": "markdown",
   "metadata": {},
   "source": [
    "Ok so a little over a quarter were retested."
   ]
  },
  {
   "cell_type": "markdown",
   "metadata": {},
   "source": [
    "#### 1.2.2 Reliability of task and survey measures"
   ]
  },
  {
   "cell_type": "code",
   "execution_count": 191,
   "metadata": {},
   "outputs": [
    {
     "name": "stdout",
     "output_type": "stream",
     "text": [
      "150 subjects under went retest on 166 measures\n"
     ]
    }
   ],
   "source": [
    "# df_merged = df_task_survey.merge(df_retest_task_survey, \n",
    "#                                  on=\"subject_id\", how='inner')\n",
    "df_task_survey['type'] = 'test'\n",
    "df_retest_task_survey['type'] = 'retest'\n",
    "# Just look at shared measures\n",
    "shared_cols = list(set(df_task_survey.columns) & set(df_retest_task_survey.columns))\n",
    "df_task_survey_shared = df_task_survey[shared_cols]\n",
    "df_retest_task_survey_shared = df_retest_task_survey[shared_cols]\n",
    "# Restrict data to retested subjects\n",
    "df_task_survey_shared = df_task_survey_shared[df_task_survey_shared['subject_id'].isin(retested_subject_idxs)]\n",
    "df_retest_task_survey_shared = df_retest_task_survey_shared[df_retest_task_survey_shared['subject_id'].isin(retested_subject_idxs)]\n",
    "\n",
    "assert df_task_survey_shared.shape == df_retest_task_survey_shared.shape\n",
    "print(\"{} subjects under went retest on {} measures\".format(*df_task_survey_shared.shape))"
   ]
  },
  {
   "cell_type": "code",
   "execution_count": 212,
   "metadata": {},
   "outputs": [],
   "source": [
    "d_survey = []\n",
    "valid_survey_cols = set(survey_cols) & set(shared_cols)\n",
    "for survey_measure in valid_survey_cols:\n",
    "    v1 = df_task_survey_shared[[survey_measure]].values.squeeze()\n",
    "    v2 = df_retest_task_survey_shared[[survey_measure]].squeeze()\n",
    "    d_survey.append({\n",
    "        \"type\": \"survey\",\n",
    "        \"r2\": r_squared(v1, v2),\n",
    "        \"measure\": survey_measure\n",
    "    })\n",
    "df_survey_reliability = pd.DataFrame(d_survey)\n",
    "    \n",
    "d_task = []\n",
    "valid_task_cols = set(task_cols) & set(shared_cols)\n",
    "for task_measure in valid_task_cols:\n",
    "    v1 = df_task_survey_shared[[task_measure]].values.squeeze()\n",
    "    v2 = df_retest_task_survey_shared[[task_measure]].squeeze()\n",
    "    d_task.append({\n",
    "        \"type\": \"task\",\n",
    "        \"r2\": r_squared(v1, v2),\n",
    "        \"measure\": task_measure\n",
    "    })\n",
    "df_task_reliability = pd.DataFrame(d_task)"
   ]
  },
  {
   "cell_type": "code",
   "execution_count": 233,
   "metadata": {},
   "outputs": [
    {
     "data": {
      "text/plain": [
       "Text(0.5,0,'Counts')"
      ]
     },
     "execution_count": 233,
     "metadata": {},
     "output_type": "execute_result"
    },
    {
     "data": {
      "image/png": "[encoded data removed]",
      "text/plain": [
       "<Figure size 864x432 with 1 Axes>"
      ]
     },
     "metadata": {
      "needs_background": "light"
     },
     "output_type": "display_data"
    }
   ],
   "source": [
    "plt.figure(figsize=(12, 6))\n",
    "sns.distplot(df_survey_reliability.r2, color='red')\n",
    "plt.text(0.2, 2, \"Survey\", {'color': 'red'})\n",
    "sns.distplot(df_task_reliability.r2, color='blue')\n",
    "plt.text(-0.5, 1.4, \"Task\", {'color': 'blue'})\n",
    "plt.title(\"Reliability by type\")\n",
    "plt.ylabel(\"Correlation\")\n",
    "plt.xlabel(\"Counts\")"
   ]
  },
  {
   "cell_type": "markdown",
   "metadata": {},
   "source": [
    "Interestingly, looks like survey data is *far* more reliable!"
   ]
  },
  {
   "cell_type": "markdown",
   "metadata": {},
   "source": [
    "### 1.2.3 Problem 4: Regression to self regulation measures"
   ]
  },
  {
   "cell_type": "markdown",
   "metadata": {},
   "source": [
    "Setup:\n",
    "\n",
    "We are going to train seperate models for each regulation measure using original (not retest) data as our input features."
   ]
  },
  {
   "cell_type": "code",
   "execution_count": 236,
   "metadata": {},
   "outputs": [
    {
     "data": {
      "text/plain": [
       "set()"
      ]
     },
     "execution_count": 236,
     "metadata": {},
     "output_type": "execute_result"
    }
   ],
   "source": [
    "set(df_task_survey.subject_id) - set(df_regulation.subject_id)"
   ]
  },
  {
   "cell_type": "code",
   "execution_count": 256,
   "metadata": {},
   "outputs": [],
   "source": [
    "alphas = [1e-05, 1e-04, 1e-03, 1e-02, 1e-01, 0, 1, 10, 100]"
   ]
  },
  {
   "cell_type": "code",
   "execution_count": 264,
   "metadata": {},
   "outputs": [],
   "source": [
    "X = np.asarray(df_task_survey[df_task_survey.columns[1:-1]]) # remove first (subject_id) and last (type) cols\n",
    "ys = {col: df_regulation[col].values for i, col in enumerate(df_regulation.columns[1:])}"
   ]
  },
  {
   "cell_type": "code",
   "execution_count": 266,
   "metadata": {},
   "outputs": [],
   "source": [
    "\n",
    "for i, (reg_measure, y) in enumerate(ys.items()):\n",
    "    X_train, X_test, y_train, y_test = train_test_split(X, y, random_state=i)\n",
    "    y_train = y_train\n",
    "    y_test = y_test\n",
    "    model = RidgeCV(alphas=alphas).fit(X_train, y_train)\n",
    "    train_preds = model.predict(X_train)\n",
    "    test_preds = model.predict(X_test)\n",
    "    train_performance = r_squared(train_preds, y_train)\n",
    "    test_performance = r_squared(test_preds, y_test)\n",
    "    "
   ]
  },
  {
   "cell_type": "code",
   "execution_count": null,
   "metadata": {},
   "outputs": [],
   "source": []
  }
 ],
 "metadata": {
  "kernelspec": {
   "display_name": "Python 2",
   "language": "python",
   "name": "python2"
  },
  "language_info": {
   "codemirror_mode": {
    "name": "ipython",
    "version": 2
   },
   "file_extension": ".py",
   "mimetype": "text/x-python",
   "name": "python",
   "nbconvert_exporter": "python",
   "pygments_lexer": "ipython2",
   "version": "2.7.15"
  }
 },
 "nbformat": 4,
 "nbformat_minor": 2
}
