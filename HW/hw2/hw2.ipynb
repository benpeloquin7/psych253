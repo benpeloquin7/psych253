{
 "cells": [
  {
   "cell_type": "markdown",
   "metadata": {},
   "source": [
    "# HW2\n",
    "\n",
    "**Author**: Ben Peloquin\n",
    "\n",
    "**Collaborator**: Marc Harrison\n",
    "    \n",
    "**Date**: 20190507"
   ]
  },
  {
   "cell_type": "code",
   "execution_count": 1,
   "metadata": {},
   "outputs": [
    {
     "name": "stdout",
     "output_type": "stream",
     "text": [
      "/Users/benpeloquin/Desktop/PHD/Classes/Psych253\n"
     ]
    }
   ],
   "source": [
    "import h5py\n",
    "import matplotlib.pyplot as plt\n",
    "import numpy as np\n",
    "import os\n",
    "import pandas as pd\n",
    "import random\n",
    "from scipy.stats import ttest_ind\n",
    "import seaborn as sns\n",
    "import sys\n",
    "import tqdm\n",
    "\n",
    "from sklearn.cross_decomposition import PLSRegression\n",
    "from sklearn.linear_model import LinearRegression, Ridge, RidgeCV, Lasso, LassoCV\n",
    "from sklearn.model_selection import train_test_split\n",
    "\n",
    "module_path = os.path.abspath(os.path.join('../..'))\n",
    "sys.path.append(module_path)\n",
    "print(module_path)\n",
    "from psych253.cross_validation import get_splits, train_and_test_scikit_classifier\n",
    "plt.style.use('ggplot')\n",
    "\n",
    "%matplotlib inline"
   ]
  },
  {
   "cell_type": "markdown",
   "metadata": {},
   "source": [
    "# Setup"
   ]
  },
  {
   "cell_type": "code",
   "execution_count": 2,
   "metadata": {},
   "outputs": [
    {
     "name": "stdout",
     "output_type": "stream",
     "text": [
      "[u'image_meta', u'images', u'neural_meta', u'time_averaged', u'time_averaged_trial_averaged', u'time_binned', u'time_binned_trial_averaged']\n"
     ]
    }
   ],
   "source": [
    "data_fp = \"../data/ventral_neural_data.hdf5\"\n",
    "d_ventral = h5py.File(data_fp, 'r')\n",
    "print(d_ventral.keys())"
   ]
  },
  {
   "cell_type": "code",
   "execution_count": 3,
   "metadata": {},
   "outputs": [],
   "source": [
    "chabo_mask = d_ventral['neural_meta']['ANIMAL_INFO'][:] == 'Chabo'\n",
    "tito_mask = d_ventral['neural_meta']['ANIMAL_INFO'][:] == 'Tito'\n",
    "\n",
    "chabo_idxs = np.array(range(d_ventral['neural_meta']['ANIMAL_INFO'].shape[0]))[chabo_mask]\n",
    "tito_idxs = np.array(range(d_ventral['neural_meta']['ANIMAL_INFO'].shape[0]))[tito_mask]"
   ]
  },
  {
   "cell_type": "markdown",
   "metadata": {},
   "source": [
    "## Question 1: Regression in neural data"
   ]
  },
  {
   "cell_type": "code",
   "execution_count": 4,
   "metadata": {},
   "outputs": [
    {
     "name": "stdout",
     "output_type": "stream",
     "text": [
      "[u'category', u'object_name', u'rotation_xy', u'rotation_xz', u'rotation_yz', u'size', u'translation_y', u'translation_z', u'variation_level']\n"
     ]
    }
   ],
   "source": [
    "v4_idxs = d_ventral['neural_meta']['V4_NEURONS'][:]\n",
    "it_idxs = d_ventral['neural_meta']['IT_NEURONS'][:]\n",
    "print(d_ventral['image_meta'].keys())\n",
    "d_all_sizes = d_ventral['image_meta']['size'][:]"
   ]
  },
  {
   "cell_type": "code",
   "execution_count": 5,
   "metadata": {},
   "outputs": [],
   "source": [
    "# Features are neurons, prediction is size\n",
    "X_v4 = d_ventral['time_averaged_trial_averaged'][:, v4_idxs[:-40]]  # Remove bad last 40\n",
    "X_it = d_ventral['time_averaged_trial_averaged'][:, it_idxs]\n",
    "datas = [('V4', X_v4), ('IT', X_it)]\n",
    "y = d_all_sizes[:]\n",
    "assert(map(lambda x: x[1].shape[0]==y.shape[0], datas))"
   ]
  },
  {
   "cell_type": "markdown",
   "metadata": {},
   "source": [
    "### Question 1.1: Size regression from neural responses"
   ]
  },
  {
   "cell_type": "markdown",
   "metadata": {},
   "source": [
    "#### 1.1.1.a OLS regression"
   ]
  },
  {
   "cell_type": "code",
   "execution_count": 6,
   "metadata": {},
   "outputs": [],
   "source": [
    "def get_random_sample(X, size):\n",
    "    \"\"\"Helper for IT neurons\"\"\"\n",
    "    sample_idxs = random.sample(range(X.shape[len(X.shape)-1]), k=size)\n",
    "    return X[:, sample_idxs]\n",
    "\n",
    "def get_split_idxs(total, train_prop=0.8, max_size=None):\n",
    "    \"\"\"Return train and test split of indices.\n",
    "    \n",
    "    Parameters\n",
    "    ----------\n",
    "    total: int\n",
    "        Number indices.\n",
    "    train_prob: float [Default: 0.8]\n",
    "        Train size.\n",
    "    max_size: int [Default: None]\n",
    "        Limit max size (for sub-sampling)\n",
    "    \n",
    "    Returns\n",
    "    -------\n",
    "    tuple\n",
    "        Train and test indices.\n",
    "\n",
    "    \"\"\"\n",
    "    all_idxs = [i for i in range(total)]\n",
    "    np.random.shuffle(all_idxs)\n",
    "    if max_size is not None and max_size < total:\n",
    "        all_idxs = all_idxs[:max_size]\n",
    "    Xs = set(all_idxs[:int(len(all_idxs)*train_prop)])\n",
    "    ys = set(all_idxs) - Xs\n",
    "    return np.array(list(Xs)), np.array(list(ys))\n",
    "\n",
    "def r_squared(predicted, actual):\n",
    "    \"\"\"The \"rsquared\" metric\n",
    "    \"\"\"\n",
    "    a_mean = actual.mean()\n",
    "    num = np.linalg.norm(actual - predicted)**2\n",
    "    denom = np.linalg.norm(actual - a_mean)**2\n",
    "    return 1 - num / denom\n",
    "\n",
    "def run_model(model_klass, X_train, y_train, X_test, y_test, eval_fn=r_squared):\n",
    "    \"\"\"Run model helper.\n",
    "    \n",
    "    Parameters\n",
    "    ----------\n",
    "    model_klass: sklearn model object\n",
    "        Sklearn model.\n",
    "    X_train: np.array (num_examples, num_features)\n",
    "        Train features.\n",
    "    y_train: np.array (num_examples, )\n",
    "        Train supervision.\n",
    "    X_test: np.array (num_examples, num_features)\n",
    "        Test features.\n",
    "    y_test: np.array (num_examples, )\n",
    "        Test supervision.\n",
    "        \n",
    "    Returns\n",
    "    -------\n",
    "    tuple\n",
    "        Tuple of (float, float, sklearn object)\n",
    "    \n",
    "    \"\"\"\n",
    "    model = model_klass.fit(X_train, y_train)\n",
    "    # Preds\n",
    "    train_preds = model.predict(X_train)\n",
    "    test_preds = model.predict(X_test)\n",
    "    train_loss = eval_fn(train_preds, y_train)\n",
    "    test_loss = eval_fn(test_preds, y_test)\n",
    "    return train_loss, test_loss, model"
   ]
  },
  {
   "cell_type": "code",
   "execution_count": 7,
   "metadata": {},
   "outputs": [],
   "source": [
    "n_sims = 20\n",
    "max_size = 88\n",
    "train_prop = 0.8"
   ]
  },
  {
   "cell_type": "code",
   "execution_count": 8,
   "metadata": {},
   "outputs": [
    {
     "name": "stderr",
     "output_type": "stream",
     "text": [
      "100%|██████████| 20/20 [00:01<00:00,  7.98it/s]\n"
     ]
    }
   ],
   "source": [
    "d_results = []\n",
    "for sim_idx in tqdm.tqdm(range(n_sims)):\n",
    "    train_idxs, test_idxs = current_indices = \\\n",
    "            get_split_idxs(len(y), train_prop)\n",
    "    X_it_partial = get_random_sample(X_it, size=max_size)\n",
    "    datas.append((\"IT_partial\", X_it_partial))\n",
    "    for roi, X in datas:\n",
    "        # Partition into train and test\n",
    "        X_train = X[train_idxs, :]\n",
    "        y_train = y[train_idxs]\n",
    "        X_test = X[test_idxs, :]\n",
    "        y_test = y[test_idxs]\n",
    "\n",
    "        # Fit model\n",
    "        train_perf, test_perf, _ = \\\n",
    "            run_model(LinearRegression(), X_train, y_train, X_test, y_test)\n",
    "        \n",
    "        d_results.append({\n",
    "            \"sim_idx\": sim_idx,\n",
    "            \"roi\": roi,\n",
    "            \"train_r2\": train_perf,\n",
    "            \"test_r2\": test_perf\n",
    "        })\n",
    "\n",
    "df_results = pd.DataFrame(d_results)"
   ]
  },
  {
   "cell_type": "code",
   "execution_count": 9,
   "metadata": {},
   "outputs": [
    {
     "data": {
      "text/html": [
       "<div>\n",
       "<style scoped>\n",
       "    .dataframe tbody tr th:only-of-type {\n",
       "        vertical-align: middle;\n",
       "    }\n",
       "\n",
       "    .dataframe tbody tr th {\n",
       "        vertical-align: top;\n",
       "    }\n",
       "\n",
       "    .dataframe thead th {\n",
       "        text-align: right;\n",
       "    }\n",
       "</style>\n",
       "<table border=\"1\" class=\"dataframe\">\n",
       "  <thead>\n",
       "    <tr style=\"text-align: right;\">\n",
       "      <th></th>\n",
       "      <th>roi</th>\n",
       "      <th>mean</th>\n",
       "      <th>std</th>\n",
       "    </tr>\n",
       "  </thead>\n",
       "  <tbody>\n",
       "    <tr>\n",
       "      <th>0</th>\n",
       "      <td>IT</td>\n",
       "      <td>0.361533</td>\n",
       "      <td>0.019720</td>\n",
       "    </tr>\n",
       "    <tr>\n",
       "      <th>1</th>\n",
       "      <td>IT_partial</td>\n",
       "      <td>0.315505</td>\n",
       "      <td>0.025704</td>\n",
       "    </tr>\n",
       "    <tr>\n",
       "      <th>2</th>\n",
       "      <td>V4</td>\n",
       "      <td>0.136154</td>\n",
       "      <td>0.018673</td>\n",
       "    </tr>\n",
       "  </tbody>\n",
       "</table>\n",
       "</div>"
      ],
      "text/plain": [
       "          roi      mean       std\n",
       "0          IT  0.361533  0.019720\n",
       "1  IT_partial  0.315505  0.025704\n",
       "2          V4  0.136154  0.018673"
      ]
     },
     "execution_count": 9,
     "metadata": {},
     "output_type": "execute_result"
    }
   ],
   "source": [
    "df_results \\\n",
    "    .groupby(['roi'])['test_r2'] \\\n",
    "    .aggregate({np.mean, np.std}) \\\n",
    "    .reset_index()"
   ]
  },
  {
   "cell_type": "code",
   "execution_count": 10,
   "metadata": {},
   "outputs": [
    {
     "name": "stderr",
     "output_type": "stream",
     "text": [
      "/Users/benpeloquin/anaconda/envs/py27/lib/python2.7/site-packages/scipy/stats/stats.py:1713: FutureWarning: Using a non-tuple sequence for multidimensional indexing is deprecated; use `arr[tuple(seq)]` instead of `arr[seq]`. In the future this will be interpreted as an array index, `arr[np.array(seq)]`, which will result either in an error or a different result.\n",
      "  return np.add.reduce(sorted[indexer] * weights, axis=axis) / sumval\n"
     ]
    },
    {
     "data": {
      "image/png": "[encoded data removed]",
      "text/plain": [
       "<Figure size 432x288 with 2 Axes>"
      ]
     },
     "metadata": {
      "needs_background": "light"
     },
     "output_type": "display_data"
    }
   ],
   "source": [
    "plt.subplot(121)\n",
    "sns.barplot(x='roi', y='train_r2', ci=95, data=df_results)\n",
    "plt.ylim(0, 0.5)\n",
    "plt.title(\"Train performance\")\n",
    "plt.subplot(122)\n",
    "sns.barplot(x='roi', y='test_r2', ci=95, data=df_results)\n",
    "plt.ylim(0, 0.5)\n",
    "plt.title(\"Test performance\")\n",
    "plt.tight_layout()"
   ]
  },
  {
   "cell_type": "markdown",
   "metadata": {},
   "source": [
    "Let's run a t-test between the sub-sampled IT and V4"
   ]
  },
  {
   "cell_type": "code",
   "execution_count": 11,
   "metadata": {},
   "outputs": [
    {
     "data": {
      "text/plain": [
       "Ttest_indResult(statistic=-30.42143004222995, pvalue=3.2062083268948905e-82)"
      ]
     },
     "execution_count": 11,
     "metadata": {},
     "output_type": "execute_result"
    }
   ],
   "source": [
    "a = df_results[df_results['roi']=='V4'].test_r2\n",
    "b = df_results[df_results['roi']=='IT_partial'].test_r2\n",
    "ttest_ind(a, b)"
   ]
  },
  {
   "cell_type": "markdown",
   "metadata": {},
   "source": [
    "Comparing average $r^2$ between V4 and subsampled IT we see a significant difference (IT is higher)."
   ]
  },
  {
   "cell_type": "markdown",
   "metadata": {},
   "source": [
    "#### 1.1.1.b  Ridge regression"
   ]
  },
  {
   "cell_type": "code",
   "execution_count": 12,
   "metadata": {},
   "outputs": [],
   "source": [
    "n_sims = 30\n",
    "max_size = 88\n",
    "train_prop = 0.8\n",
    "alphas = [1e-7, 1e-5, 1e-3, 1e-2, 1e-1, 1, 10, 100]\n",
    "models = [(\"ridge_{}\".format(alpha), Ridge(alpha=alpha)) for alpha in alphas]\n",
    "models.append((\"ols\", LinearRegression()))"
   ]
  },
  {
   "cell_type": "code",
   "execution_count": 13,
   "metadata": {},
   "outputs": [
    {
     "name": "stderr",
     "output_type": "stream",
     "text": [
      "100%|██████████| 30/30 [00:34<00:00,  1.41s/it]\n"
     ]
    }
   ],
   "source": [
    "d_results = []\n",
    "for sim_idx in tqdm.tqdm(range(n_sims)):\n",
    "    train_idxs, test_idxs = current_indices = \\\n",
    "            get_split_idxs(len(y), train_prop)\n",
    "    X_it_partial = get_random_sample(X_it, size=max_size)\n",
    "    datas.append((\"IT_partial\", X_it_partial))\n",
    "    for roi, X in datas:\n",
    "        # Partition into train and test\n",
    "        X_train = X[train_idxs, :]\n",
    "        y_train = y[train_idxs]\n",
    "        X_test = X[test_idxs, :]\n",
    "        y_test = y[test_idxs]\n",
    "        for model_nam, model in models:\n",
    "            # Fit model\n",
    "            train_perf, test_perf, _ = \\\n",
    "                run_model(model, X_train, y_train, X_test, y_test)\n",
    "\n",
    "            d_results.append({\n",
    "                \"sim_idx\": sim_idx,\n",
    "                \"model_name\": model_nam,\n",
    "                \"roi\": roi,\n",
    "                \"train_r2\": train_perf,\n",
    "                \"test_r2\": test_perf\n",
    "            })\n",
    "\n",
    "df_results = pd.DataFrame(d_results)"
   ]
  },
  {
   "cell_type": "code",
   "execution_count": 14,
   "metadata": {},
   "outputs": [],
   "source": [
    "d_best = []\n",
    "for roi, group in (df_results \\\n",
    "    .groupby([\"model_name\", \"roi\"])[[\"test_r2\"]] \\\n",
    "    .aggregate({np.mean}) \\\n",
    "    .reset_index() \\\n",
    "    .groupby(\"roi\")):\n",
    "    best_idx = group['test_r2'].idxmax().values[0]\n",
    "    r2 = group[group.index==best_idx].test_r2.values[0][0]\n",
    "    model_name_ = group[group.index==best_idx].model_name.values[0]\n",
    "    d_best.append({\n",
    "        \"roi\": roi,\n",
    "        \"model\": model_name_,\n",
    "        \"r2\": r2\n",
    "    })\n",
    "df_best = pd.DataFrame(d_best)"
   ]
  },
  {
   "cell_type": "code",
   "execution_count": 15,
   "metadata": {},
   "outputs": [
    {
     "data": {
      "text/html": [
       "<div>\n",
       "<style scoped>\n",
       "    .dataframe tbody tr th:only-of-type {\n",
       "        vertical-align: middle;\n",
       "    }\n",
       "\n",
       "    .dataframe tbody tr th {\n",
       "        vertical-align: top;\n",
       "    }\n",
       "\n",
       "    .dataframe thead th {\n",
       "        text-align: right;\n",
       "    }\n",
       "</style>\n",
       "<table border=\"1\" class=\"dataframe\">\n",
       "  <thead>\n",
       "    <tr style=\"text-align: right;\">\n",
       "      <th></th>\n",
       "      <th>model</th>\n",
       "      <th>r2</th>\n",
       "      <th>roi</th>\n",
       "    </tr>\n",
       "  </thead>\n",
       "  <tbody>\n",
       "    <tr>\n",
       "      <th>0</th>\n",
       "      <td>ridge_100</td>\n",
       "      <td>0.362808</td>\n",
       "      <td>IT</td>\n",
       "    </tr>\n",
       "    <tr>\n",
       "      <th>1</th>\n",
       "      <td>ridge_10</td>\n",
       "      <td>0.307976</td>\n",
       "      <td>IT_partial</td>\n",
       "    </tr>\n",
       "    <tr>\n",
       "      <th>2</th>\n",
       "      <td>ridge_100</td>\n",
       "      <td>0.137855</td>\n",
       "      <td>V4</td>\n",
       "    </tr>\n",
       "  </tbody>\n",
       "</table>\n",
       "</div>"
      ],
      "text/plain": [
       "       model        r2         roi\n",
       "0  ridge_100  0.362808          IT\n",
       "1   ridge_10  0.307976  IT_partial\n",
       "2  ridge_100  0.137855          V4"
      ]
     },
     "execution_count": 15,
     "metadata": {},
     "output_type": "execute_result"
    }
   ],
   "source": [
    "df_best"
   ]
  },
  {
   "cell_type": "code",
   "execution_count": 16,
   "metadata": {},
   "outputs": [
    {
     "data": {
      "text/plain": [
       "[('IT', 'ridge_100'), ('IT_partial', 'ridge_10'), ('V4', 'ridge_100')]"
      ]
     },
     "execution_count": 16,
     "metadata": {},
     "output_type": "execute_result"
    }
   ],
   "source": [
    "best_models = zip(df_best.roi.values, df_best.model.values)\n",
    "best_models"
   ]
  },
  {
   "cell_type": "code",
   "execution_count": 17,
   "metadata": {},
   "outputs": [],
   "source": [
    "# Filter best models\n",
    "df_bests = pd.concat(\n",
    "    [df_results[(df_results.roi == roi) & (df_results.model_name==model)] for roi, model in best_models])"
   ]
  },
  {
   "cell_type": "code",
   "execution_count": 18,
   "metadata": {},
   "outputs": [],
   "source": [
    "df_bests[\"best_model_for_roi\"] = \\\n",
    "    df_bests.apply(lambda x: \"{}_{}\".format(x[\"roi\"], x[\"model_name\"]), axis=1)"
   ]
  },
  {
   "cell_type": "code",
   "execution_count": 19,
   "metadata": {},
   "outputs": [
    {
     "data": {
      "text/plain": [
       "Text(0.5,1,'Best model by ROI')"
      ]
     },
     "execution_count": 19,
     "metadata": {},
     "output_type": "execute_result"
    },
    {
     "data": {
      "image/png": "[encoded data removed]",
      "text/plain": [
       "<Figure size 720x360 with 1 Axes>"
      ]
     },
     "metadata": {
      "needs_background": "light"
     },
     "output_type": "display_data"
    }
   ],
   "source": [
    "plt.figure(figsize=(10, 5))\n",
    "sns.barplot(x=\"best_model_for_roi\", y=\"test_r2\", ci=95, data=df_bests)\n",
    "plt.xlabel(\"Best model and roi\")\n",
    "plt.ylabel(\"Test r^2\")\n",
    "plt.title(\"Best model by ROI\")"
   ]
  },
  {
   "cell_type": "markdown",
   "metadata": {},
   "source": [
    "**Todo RidgeCV**"
   ]
  },
  {
   "cell_type": "markdown",
   "metadata": {},
   "source": [
    "### Question 1.1.2: Predicting neural responses from neural responses"
   ]
  },
  {
   "cell_type": "code",
   "execution_count": 20,
   "metadata": {},
   "outputs": [],
   "source": [
    "chabo_v4_idxs = set(v4_idxs) & set(chabo_idxs)\n",
    "tito_v4_idxs = set(v4_idxs) & set(tito_idxs[:-40])\n",
    "\n",
    "# Only good v4 from both animal\n",
    "X_chabo_v4 = d_ventral['time_averaged_trial_averaged'][:, chabo_v4_idxs]\n",
    "X_tito_v4 = d_ventral['time_averaged_trial_averaged'][:, tito_v4_idxs] "
   ]
  },
  {
   "cell_type": "markdown",
   "metadata": {},
   "source": [
    "Let's predict `tito` from `chabo`."
   ]
  },
  {
   "cell_type": "code",
   "execution_count": 21,
   "metadata": {},
   "outputs": [],
   "source": [
    "n_sims = 30\n",
    "train_prob = 0.8\n",
    "max_size = None\n",
    "models = [(\"ridge\", RidgeCV(alphas=alphas)), (\"lasso\", LassoCV(alphas=alphas))]"
   ]
  },
  {
   "cell_type": "code",
   "execution_count": 22,
   "metadata": {},
   "outputs": [
    {
     "name": "stderr",
     "output_type": "stream",
     "text": [
      "100%|██████████| 30/30 [00:02<00:00, 12.27it/s]\n"
     ]
    }
   ],
   "source": [
    "import warnings\n",
    "warnings.filterwarnings('ignore')\n",
    "\n",
    "y = X_tito_v4[:, 0]\n",
    "X = X_chabo_v4\n",
    "d_results3 = []\n",
    "for sim_idx in tqdm.tqdm(range(n_sims)):\n",
    "    train_idxs, test_idxs = current_indices = \\\n",
    "            get_split_idxs(len(y), train_prop)\n",
    "    for model_name, model in models:\n",
    "        # Partition into train and test\n",
    "        X_train = X[train_idxs, :]\n",
    "        y_train = y[train_idxs]\n",
    "        X_test = X[test_idxs, :]\n",
    "        y_test = y[test_idxs]\n",
    "        train_perf, test_perf, model_ = \\\n",
    "            run_model(model, X_train, y_train, X_test, y_test)\n",
    "\n",
    "        d_results3.append({\n",
    "            \"sim_idx\": sim_idx,\n",
    "            \"model_name\": model_name,\n",
    "            \"hyperparam\": model_.alpha_,\n",
    "            \"train_r2\": train_perf,\n",
    "            \"test_r2\": test_perf\n",
    "        })\n",
    "\n",
    "df_results3 = pd.DataFrame(d_results3)"
   ]
  },
  {
   "cell_type": "code",
   "execution_count": 23,
   "metadata": {},
   "outputs": [
    {
     "data": {
      "text/html": [
       "<div>\n",
       "<style scoped>\n",
       "    .dataframe tbody tr th:only-of-type {\n",
       "        vertical-align: middle;\n",
       "    }\n",
       "\n",
       "    .dataframe tbody tr th {\n",
       "        vertical-align: top;\n",
       "    }\n",
       "\n",
       "    .dataframe thead th {\n",
       "        text-align: right;\n",
       "    }\n",
       "</style>\n",
       "<table border=\"1\" class=\"dataframe\">\n",
       "  <thead>\n",
       "    <tr style=\"text-align: right;\">\n",
       "      <th></th>\n",
       "      <th>model_name</th>\n",
       "      <th>hyperparam</th>\n",
       "      <th>count</th>\n",
       "      <th>mean</th>\n",
       "      <th>std</th>\n",
       "    </tr>\n",
       "  </thead>\n",
       "  <tbody>\n",
       "    <tr>\n",
       "      <th>0</th>\n",
       "      <td>lasso</td>\n",
       "      <td>0.00001</td>\n",
       "      <td>7</td>\n",
       "      <td>0.396880</td>\n",
       "      <td>0.018057</td>\n",
       "    </tr>\n",
       "    <tr>\n",
       "      <th>1</th>\n",
       "      <td>lasso</td>\n",
       "      <td>0.00100</td>\n",
       "      <td>23</td>\n",
       "      <td>0.401716</td>\n",
       "      <td>0.018233</td>\n",
       "    </tr>\n",
       "    <tr>\n",
       "      <th>2</th>\n",
       "      <td>ridge</td>\n",
       "      <td>10.00000</td>\n",
       "      <td>30</td>\n",
       "      <td>0.404297</td>\n",
       "      <td>0.019052</td>\n",
       "    </tr>\n",
       "  </tbody>\n",
       "</table>\n",
       "</div>"
      ],
      "text/plain": [
       "  model_name  hyperparam  count      mean       std\n",
       "0      lasso     0.00001      7  0.396880  0.018057\n",
       "1      lasso     0.00100     23  0.401716  0.018233\n",
       "2      ridge    10.00000     30  0.404297  0.019052"
      ]
     },
     "execution_count": 23,
     "metadata": {},
     "output_type": "execute_result"
    }
   ],
   "source": [
    "df_results3 \\\n",
    "    .groupby([\"model_name\", \"hyperparam\"])[\"test_r2\"] \\\n",
    "    .aggregate({np.mean, np.std, \"count\"}) \\\n",
    "    .reset_index()\n",
    "    "
   ]
  },
  {
   "cell_type": "markdown",
   "metadata": {},
   "source": [
    "The last time we ran this `1e-3` had the second highest mean value, but was most often found to have the best r^2 value. So we're going to set the best Lasso to `1e-3`. Clearly it's `10` for Ridge."
   ]
  },
  {
   "cell_type": "code",
   "execution_count": 24,
   "metadata": {},
   "outputs": [],
   "source": [
    "best_ridge = Ridge(alpha=10)\n",
    "best_lasso = Lasso(alpha=1e-3)\n",
    "models = [(\"ridge\", best_ridge), (\"lasso\", best_lasso)]"
   ]
  },
  {
   "cell_type": "code",
   "execution_count": 25,
   "metadata": {},
   "outputs": [
    {
     "name": "stderr",
     "output_type": "stream",
     "text": [
      "100%|██████████| 100/100 [00:01<00:00, 89.29it/s]\n"
     ]
    }
   ],
   "source": [
    "n_sims = 100\n",
    "train_prop = 0.8\n",
    "\n",
    "for sim_idx in tqdm.tqdm(range(n_sims)):\n",
    "    train_idxs, test_idxs = current_indices = \\\n",
    "            get_split_idxs(len(y), train_prop)\n",
    "    for model_name, model in models:\n",
    "        # Partition into train and test\n",
    "        X_train = X[train_idxs, :]\n",
    "        y_train = y[train_idxs]\n",
    "        X_test = X[test_idxs, :]\n",
    "        y_test = y[test_idxs]\n",
    "        train_perf, test_perf, model_ = \\\n",
    "            run_model(model, X_train, y_train, X_test, y_test)\n",
    "\n",
    "        d_results3.append({\n",
    "            \"sim_idx\": sim_idx,\n",
    "            \"model_name\": model_name,\n",
    "            \"train_r2\": train_perf,\n",
    "            \"test_r2\": test_perf\n",
    "        })"
   ]
  },
  {
   "cell_type": "markdown",
   "metadata": {},
   "source": [
    "## Question 1.2: Regression in self-regulation ontology data"
   ]
  },
  {
   "cell_type": "markdown",
   "metadata": {},
   "source": [
    "#### 1.2.1 Data explanation"
   ]
  },
  {
   "cell_type": "markdown",
   "metadata": {},
   "source": [
    "#### 1.2.2 Reliability of task and survey measures"
   ]
  },
  {
   "cell_type": "code",
   "execution_count": null,
   "metadata": {},
   "outputs": [],
   "source": []
  },
  {
   "cell_type": "code",
   "execution_count": null,
   "metadata": {},
   "outputs": [],
   "source": []
  }
 ],
 "metadata": {
  "kernelspec": {
   "display_name": "Python 2",
   "language": "python",
   "name": "python2"
  },
  "language_info": {
   "codemirror_mode": {
    "name": "ipython",
    "version": 2
   },
   "file_extension": ".py",
   "mimetype": "text/x-python",
   "name": "python",
   "nbconvert_exporter": "python",
   "pygments_lexer": "ipython2",
   "version": "2.7.15"
  }
 },
 "nbformat": 4,
 "nbformat_minor": 2
}
