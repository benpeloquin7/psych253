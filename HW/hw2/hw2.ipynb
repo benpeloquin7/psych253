{
 "cells": [
  {
   "cell_type": "markdown",
   "metadata": {},
   "source": [
    "# HW2\n",
    "\n",
    "**Author**: Ben Peloquin\n",
    "\n",
    "**Collaborator**: Marc Harrison\n",
    "    \n",
    "**Date**: 20190507"
   ]
  },
  {
   "cell_type": "code",
   "execution_count": 135,
   "metadata": {},
   "outputs": [
    {
     "name": "stdout",
     "output_type": "stream",
     "text": [
      "/Users/benpeloquin/Desktop/PHD/Classes/Psych253\n"
     ]
    }
   ],
   "source": [
    "import h5py\n",
    "import matplotlib.pyplot as plt\n",
    "import numpy as np\n",
    "import os\n",
    "import pandas as pd\n",
    "import random\n",
    "from scipy.stats import ttest_ind, f_oneway\n",
    "import seaborn as sns\n",
    "import sys\n",
    "import tqdm\n",
    "\n",
    "from sklearn.cross_decomposition import PLSRegression\n",
    "from sklearn.linear_model import LinearRegression, Ridge, RidgeCV, Lasso, LassoCV\n",
    "from sklearn.model_selection import train_test_split, GridSearchCV\n",
    "\n",
    "module_path = os.path.abspath(os.path.join('../..'))\n",
    "sys.path.append(module_path)\n",
    "print(module_path)\n",
    "from psych253.cross_validation import get_splits, train_and_test_scikit_classifier\n",
    "plt.style.use('ggplot')\n",
    "\n",
    "%matplotlib inline"
   ]
  },
  {
   "cell_type": "markdown",
   "metadata": {},
   "source": [
    "# Setup"
   ]
  },
  {
   "cell_type": "code",
   "execution_count": 2,
   "metadata": {},
   "outputs": [
    {
     "name": "stdout",
     "output_type": "stream",
     "text": [
      "[u'image_meta', u'images', u'neural_meta', u'time_averaged', u'time_averaged_trial_averaged', u'time_binned', u'time_binned_trial_averaged']\n"
     ]
    }
   ],
   "source": [
    "data_fp = \"../data/ventral_neural_data.hdf5\"\n",
    "d_ventral = h5py.File(data_fp, 'r')\n",
    "print(d_ventral.keys())"
   ]
  },
  {
   "cell_type": "code",
   "execution_count": 3,
   "metadata": {},
   "outputs": [],
   "source": [
    "chabo_mask = d_ventral['neural_meta']['ANIMAL_INFO'][:] == 'Chabo'\n",
    "tito_mask = d_ventral['neural_meta']['ANIMAL_INFO'][:] == 'Tito'\n",
    "\n",
    "chabo_idxs = np.array(range(d_ventral['neural_meta']['ANIMAL_INFO'].shape[0]))[chabo_mask]\n",
    "tito_idxs = np.array(range(d_ventral['neural_meta']['ANIMAL_INFO'].shape[0]))[tito_mask]"
   ]
  },
  {
   "cell_type": "markdown",
   "metadata": {},
   "source": [
    "## Question 1: Regression in neural data"
   ]
  },
  {
   "cell_type": "code",
   "execution_count": 4,
   "metadata": {},
   "outputs": [
    {
     "name": "stdout",
     "output_type": "stream",
     "text": [
      "[u'category', u'object_name', u'rotation_xy', u'rotation_xz', u'rotation_yz', u'size', u'translation_y', u'translation_z', u'variation_level']\n"
     ]
    }
   ],
   "source": [
    "v4_idxs = d_ventral['neural_meta']['V4_NEURONS'][:]\n",
    "it_idxs = d_ventral['neural_meta']['IT_NEURONS'][:]\n",
    "print(d_ventral['image_meta'].keys())\n",
    "d_all_sizes = d_ventral['image_meta']['size'][:]"
   ]
  },
  {
   "cell_type": "code",
   "execution_count": 5,
   "metadata": {},
   "outputs": [],
   "source": [
    "# Features are neurons, prediction is size\n",
    "X_v4 = d_ventral['time_averaged_trial_averaged'][:, v4_idxs[:-40]]  # Remove bad last 40\n",
    "X_it = d_ventral['time_averaged_trial_averaged'][:, it_idxs]\n",
    "datas = [('V4', X_v4), ('IT', X_it)]\n",
    "y = d_all_sizes[:]\n",
    "assert(map(lambda x: x[1].shape[0]==y.shape[0], datas))"
   ]
  },
  {
   "cell_type": "markdown",
   "metadata": {},
   "source": [
    "### Question 1.1: Size regression from neural responses"
   ]
  },
  {
   "cell_type": "markdown",
   "metadata": {},
   "source": [
    "#### 1.1.1.a OLS regression"
   ]
  },
  {
   "cell_type": "code",
   "execution_count": 103,
   "metadata": {},
   "outputs": [],
   "source": [
    "def get_random_sample(X, size):\n",
    "    \"\"\"Helper for IT neurons\"\"\"\n",
    "    sample_idxs = random.sample(range(X.shape[len(X.shape)-1]), k=size)\n",
    "    return X[:, sample_idxs]\n",
    "\n",
    "def get_split_idxs(total, train_prop=0.8, max_size=None):\n",
    "    \"\"\"Return train and test split of indices.\n",
    "    \n",
    "    Parameters\n",
    "    ----------\n",
    "    total: int\n",
    "        Number indices.\n",
    "    train_prob: float [Default: 0.8]\n",
    "        Train size.\n",
    "    max_size: int [Default: None]\n",
    "        Limit max size (for sub-sampling)\n",
    "    \n",
    "    Returns\n",
    "    -------\n",
    "    tuple\n",
    "        Train and test indices.\n",
    "\n",
    "    \"\"\"\n",
    "    all_idxs = [i for i in range(total)]\n",
    "    np.random.shuffle(all_idxs)\n",
    "    if max_size is not None and max_size < total:\n",
    "        all_idxs = all_idxs[:max_size]\n",
    "    Xs = set(all_idxs[:int(len(all_idxs)*train_prop)])\n",
    "    ys = set(all_idxs) - Xs\n",
    "    return np.array(list(Xs)), np.array(list(ys))\n",
    "\n",
    "def r_squared(predicted, actual):\n",
    "    \"\"\"The \"rsquared\" metric\n",
    "    \"\"\"\n",
    "    a_mean = actual.mean()\n",
    "    num = np.linalg.norm(actual - predicted)**2\n",
    "    denom = np.linalg.norm(actual - a_mean)**2\n",
    "    return 1 - num / denom\n",
    "\n",
    "def run_model(model_klass, X_train, y_train, X_test, y_test, eval_fn=r_squared):\n",
    "    \"\"\"Run model helper.\n",
    "    \n",
    "    Parameters\n",
    "    ----------\n",
    "    model_klass: sklearn model object\n",
    "        Sklearn model.\n",
    "    X_train: np.array (num_examples, num_features)\n",
    "        Train features.\n",
    "    y_train: np.array (num_examples, )\n",
    "        Train supervision.\n",
    "    X_test: np.array (num_examples, num_features)\n",
    "        Test features.\n",
    "    y_test: np.array (num_examples, )\n",
    "        Test supervision.\n",
    "        \n",
    "    Returns\n",
    "    -------\n",
    "    tuple\n",
    "        Tuple of (float, float, sklearn object)\n",
    "    \n",
    "    \"\"\"\n",
    "    model = model_klass.fit(X_train, y_train)\n",
    "    # Preds\n",
    "    train_preds = model.predict(X_train)\n",
    "    test_preds = model.predict(X_test)\n",
    "    train_preds = train_preds.squeeze()\n",
    "    test_preds = test_preds.squeeze()\n",
    "    train_loss = eval_fn(train_preds, y_train)\n",
    "    test_loss = eval_fn(test_preds, y_test)\n",
    "    return train_loss, test_loss, model"
   ]
  },
  {
   "cell_type": "code",
   "execution_count": 104,
   "metadata": {},
   "outputs": [],
   "source": [
    "n_sims = 20\n",
    "max_size = 88\n",
    "train_prop = 0.8"
   ]
  },
  {
   "cell_type": "code",
   "execution_count": 105,
   "metadata": {},
   "outputs": [
    {
     "name": "stderr",
     "output_type": "stream",
     "text": [
      "100%|██████████| 20/20 [00:11<00:00,  1.77it/s]\n"
     ]
    }
   ],
   "source": [
    "d_results = []\n",
    "for sim_idx in tqdm.tqdm(range(n_sims)):\n",
    "    train_idxs, test_idxs = current_indices = \\\n",
    "            get_split_idxs(len(y), train_prop)\n",
    "    # Note (BP): Here we sub-sample IT to have same \n",
    "    # size (88) as V4 with bad ones removed...\n",
    "    X_it_partial = get_random_sample(X_it, size=max_size)\n",
    "    datas.append((\"IT_partial\", X_it_partial))\n",
    "    for roi, X in datas:\n",
    "        # Partition into train and test\n",
    "        X_train = X[train_idxs, :]\n",
    "        y_train = y[train_idxs]\n",
    "        X_test = X[test_idxs, :]\n",
    "        y_test = y[test_idxs]\n",
    "\n",
    "        # Fit model\n",
    "        train_perf, test_perf, _ = \\\n",
    "            run_model(LinearRegression(), X_train, y_train, X_test, y_test)\n",
    "        \n",
    "        d_results.append({\n",
    "            \"sim_idx\": sim_idx,\n",
    "            \"roi\": roi,\n",
    "            \"train_r2\": train_perf,\n",
    "            \"test_r2\": test_perf\n",
    "        })\n",
    "\n",
    "df_results = pd.DataFrame(d_results)"
   ]
  },
  {
   "cell_type": "code",
   "execution_count": 106,
   "metadata": {},
   "outputs": [
    {
     "data": {
      "text/html": [
       "<div>\n",
       "<style scoped>\n",
       "    .dataframe tbody tr th:only-of-type {\n",
       "        vertical-align: middle;\n",
       "    }\n",
       "\n",
       "    .dataframe tbody tr th {\n",
       "        vertical-align: top;\n",
       "    }\n",
       "\n",
       "    .dataframe thead th {\n",
       "        text-align: right;\n",
       "    }\n",
       "</style>\n",
       "<table border=\"1\" class=\"dataframe\">\n",
       "  <thead>\n",
       "    <tr style=\"text-align: right;\">\n",
       "      <th></th>\n",
       "      <th>roi</th>\n",
       "      <th>mean</th>\n",
       "      <th>std</th>\n",
       "    </tr>\n",
       "  </thead>\n",
       "  <tbody>\n",
       "    <tr>\n",
       "      <th>0</th>\n",
       "      <td>IT</td>\n",
       "      <td>0.458634</td>\n",
       "      <td>2.693298e-02</td>\n",
       "    </tr>\n",
       "    <tr>\n",
       "      <th>1</th>\n",
       "      <td>IT_partial</td>\n",
       "      <td>0.417398</td>\n",
       "      <td>2.893860e-02</td>\n",
       "    </tr>\n",
       "    <tr>\n",
       "      <th>2</th>\n",
       "      <td>V4</td>\n",
       "      <td>1.000000</td>\n",
       "      <td>2.629900e-12</td>\n",
       "    </tr>\n",
       "  </tbody>\n",
       "</table>\n",
       "</div>"
      ],
      "text/plain": [
       "          roi      mean           std\n",
       "0          IT  0.458634  2.693298e-02\n",
       "1  IT_partial  0.417398  2.893860e-02\n",
       "2          V4  1.000000  2.629900e-12"
      ]
     },
     "execution_count": 106,
     "metadata": {},
     "output_type": "execute_result"
    }
   ],
   "source": [
    "df_results \\\n",
    "    .groupby(['roi'])['test_r2'] \\\n",
    "    .aggregate({np.mean, np.std}) \\\n",
    "    .reset_index()"
   ]
  },
  {
   "cell_type": "code",
   "execution_count": 107,
   "metadata": {},
   "outputs": [
    {
     "data": {
      "image/png": "[encoded data removed]",
      "text/plain": [
       "<Figure size 432x288 with 2 Axes>"
      ]
     },
     "metadata": {
      "needs_background": "light"
     },
     "output_type": "display_data"
    }
   ],
   "source": [
    "plt.subplot(121)\n",
    "sns.barplot(x='roi', y='train_r2', ci=95, data=df_results)\n",
    "plt.ylim(0, 0.5)\n",
    "plt.title(\"Train performance\")\n",
    "plt.subplot(122)\n",
    "sns.barplot(x='roi', y='test_r2', ci=95, data=df_results)\n",
    "plt.ylim(0, 0.5)\n",
    "plt.title(\"Test performance\")\n",
    "plt.tight_layout()"
   ]
  },
  {
   "cell_type": "markdown",
   "metadata": {},
   "source": [
    "Let's run a t-test between the sub-sampled IT and V4"
   ]
  },
  {
   "cell_type": "code",
   "execution_count": 108,
   "metadata": {},
   "outputs": [
    {
     "data": {
      "text/plain": [
       "Ttest_indResult(statistic=89.99852484932899, pvalue=0.0)"
      ]
     },
     "execution_count": 108,
     "metadata": {},
     "output_type": "execute_result"
    }
   ],
   "source": [
    "a = df_results[df_results['roi']=='V4'].test_r2\n",
    "b = df_results[df_results['roi']=='IT_partial'].test_r2\n",
    "ttest_ind(a, b)"
   ]
  },
  {
   "cell_type": "markdown",
   "metadata": {},
   "source": [
    "Comparing average $r^2$ between V4 and subsampled IT we see a significant difference (IT is higher)."
   ]
  },
  {
   "cell_type": "markdown",
   "metadata": {},
   "source": [
    "#### 1.1.1.b  Ridge regression"
   ]
  },
  {
   "cell_type": "code",
   "execution_count": 109,
   "metadata": {},
   "outputs": [],
   "source": [
    "n_sims = 30\n",
    "max_size = 88\n",
    "train_prop = 0.8\n",
    "alphas = [1e-7, 1e-5, 1e-3, 1e-2, 1e-1, 1, 10, 100]\n",
    "models = [(\"ridge_{}\".format(alpha), Ridge(alpha=alpha)) for alpha in alphas]\n",
    "# Ordinary least squares\n",
    "models.append((\"ols\", LinearRegression()))\n",
    "# Ridge CV\n",
    "models.append((\"ridge_cv\", RidgeCV(alphas=alphas)))"
   ]
  },
  {
   "cell_type": "code",
   "execution_count": 110,
   "metadata": {},
   "outputs": [
    {
     "name": "stderr",
     "output_type": "stream",
     "text": [
      "  0%|          | 0/30 [00:00<?, ?it/s]Exception KeyError: KeyError(<weakref at 0x1a2dbaa8e8; to 'tqdm' at 0x1a1ff4b190>,) in <bound method tqdm.__del__ of   0%|          | 0/30 [00:03<?, ?it/s]> ignored\n"
     ]
    },
    {
     "ename": "KeyboardInterrupt",
     "evalue": "",
     "output_type": "error",
     "traceback": [
      "\u001b[0;31m---------------------------------------------------------------------------\u001b[0m",
      "\u001b[0;31mKeyboardInterrupt\u001b[0m                         Traceback (most recent call last)",
      "\u001b[0;32m<ipython-input-110-762e54a3213c>\u001b[0m in \u001b[0;36m<module>\u001b[0;34m()\u001b[0m\n\u001b[1;32m     12\u001b[0m         \u001b[0;32mfor\u001b[0m \u001b[0mmodel_nam\u001b[0m\u001b[0;34m,\u001b[0m \u001b[0mmodel\u001b[0m \u001b[0;32min\u001b[0m \u001b[0mmodels\u001b[0m\u001b[0;34m:\u001b[0m\u001b[0;34m\u001b[0m\u001b[0m\n\u001b[1;32m     13\u001b[0m             \u001b[0;31m# Fit model\u001b[0m\u001b[0;34m\u001b[0m\u001b[0;34m\u001b[0m\u001b[0m\n\u001b[0;32m---> 14\u001b[0;31m             \u001b[0mtrain_perf\u001b[0m\u001b[0;34m,\u001b[0m \u001b[0mtest_perf\u001b[0m\u001b[0;34m,\u001b[0m \u001b[0m_\u001b[0m \u001b[0;34m=\u001b[0m                 \u001b[0mrun_model\u001b[0m\u001b[0;34m(\u001b[0m\u001b[0mmodel\u001b[0m\u001b[0;34m,\u001b[0m \u001b[0mX_train\u001b[0m\u001b[0;34m,\u001b[0m \u001b[0my_train\u001b[0m\u001b[0;34m,\u001b[0m \u001b[0mX_test\u001b[0m\u001b[0;34m,\u001b[0m \u001b[0my_test\u001b[0m\u001b[0;34m)\u001b[0m\u001b[0;34m\u001b[0m\u001b[0m\n\u001b[0m\u001b[1;32m     15\u001b[0m \u001b[0;34m\u001b[0m\u001b[0m\n\u001b[1;32m     16\u001b[0m             d_results.append({\n",
      "\u001b[0;32m<ipython-input-103-b4e2b34d0f55>\u001b[0m in \u001b[0;36mrun_model\u001b[0;34m(model_klass, X_train, y_train, X_test, y_test, eval_fn)\u001b[0m\n\u001b[1;32m     60\u001b[0m \u001b[0;34m\u001b[0m\u001b[0m\n\u001b[1;32m     61\u001b[0m     \"\"\"\n\u001b[0;32m---> 62\u001b[0;31m     \u001b[0mmodel\u001b[0m \u001b[0;34m=\u001b[0m \u001b[0mmodel_klass\u001b[0m\u001b[0;34m.\u001b[0m\u001b[0mfit\u001b[0m\u001b[0;34m(\u001b[0m\u001b[0mX_train\u001b[0m\u001b[0;34m,\u001b[0m \u001b[0my_train\u001b[0m\u001b[0;34m)\u001b[0m\u001b[0;34m\u001b[0m\u001b[0m\n\u001b[0m\u001b[1;32m     63\u001b[0m     \u001b[0;31m# Preds\u001b[0m\u001b[0;34m\u001b[0m\u001b[0;34m\u001b[0m\u001b[0m\n\u001b[1;32m     64\u001b[0m     \u001b[0mtrain_preds\u001b[0m \u001b[0;34m=\u001b[0m \u001b[0mmodel\u001b[0m\u001b[0;34m.\u001b[0m\u001b[0mpredict\u001b[0m\u001b[0;34m(\u001b[0m\u001b[0mX_train\u001b[0m\u001b[0;34m)\u001b[0m\u001b[0;34m\u001b[0m\u001b[0m\n",
      "\u001b[0;32m/Users/benpeloquin/anaconda/envs/py27/lib/python2.7/site-packages/sklearn/linear_model/ridge.pyc\u001b[0m in \u001b[0;36mfit\u001b[0;34m(self, X, y, sample_weight)\u001b[0m\n\u001b[1;32m   1112\u001b[0m                                   \u001b[0mgcv_mode\u001b[0m\u001b[0;34m=\u001b[0m\u001b[0mself\u001b[0m\u001b[0;34m.\u001b[0m\u001b[0mgcv_mode\u001b[0m\u001b[0;34m,\u001b[0m\u001b[0;34m\u001b[0m\u001b[0m\n\u001b[1;32m   1113\u001b[0m                                   store_cv_values=self.store_cv_values)\n\u001b[0;32m-> 1114\u001b[0;31m             \u001b[0mestimator\u001b[0m\u001b[0;34m.\u001b[0m\u001b[0mfit\u001b[0m\u001b[0;34m(\u001b[0m\u001b[0mX\u001b[0m\u001b[0;34m,\u001b[0m \u001b[0my\u001b[0m\u001b[0;34m,\u001b[0m \u001b[0msample_weight\u001b[0m\u001b[0;34m=\u001b[0m\u001b[0msample_weight\u001b[0m\u001b[0;34m)\u001b[0m\u001b[0;34m\u001b[0m\u001b[0m\n\u001b[0m\u001b[1;32m   1115\u001b[0m             \u001b[0mself\u001b[0m\u001b[0;34m.\u001b[0m\u001b[0malpha_\u001b[0m \u001b[0;34m=\u001b[0m \u001b[0mestimator\u001b[0m\u001b[0;34m.\u001b[0m\u001b[0malpha_\u001b[0m\u001b[0;34m\u001b[0m\u001b[0m\n\u001b[1;32m   1116\u001b[0m             \u001b[0;32mif\u001b[0m \u001b[0mself\u001b[0m\u001b[0;34m.\u001b[0m\u001b[0mstore_cv_values\u001b[0m\u001b[0;34m:\u001b[0m\u001b[0;34m\u001b[0m\u001b[0m\n",
      "\u001b[0;32m/Users/benpeloquin/anaconda/envs/py27/lib/python2.7/site-packages/sklearn/linear_model/ridge.pyc\u001b[0m in \u001b[0;36mfit\u001b[0;34m(self, X, y, sample_weight)\u001b[0m\n\u001b[1;32m    994\u001b[0m         X, y, X_offset, y_offset, X_scale = LinearModel._preprocess_data(\n\u001b[1;32m    995\u001b[0m             \u001b[0mX\u001b[0m\u001b[0;34m,\u001b[0m \u001b[0my\u001b[0m\u001b[0;34m,\u001b[0m \u001b[0mself\u001b[0m\u001b[0;34m.\u001b[0m\u001b[0mfit_intercept\u001b[0m\u001b[0;34m,\u001b[0m \u001b[0mself\u001b[0m\u001b[0;34m.\u001b[0m\u001b[0mnormalize\u001b[0m\u001b[0;34m,\u001b[0m \u001b[0mself\u001b[0m\u001b[0;34m.\u001b[0m\u001b[0mcopy_X\u001b[0m\u001b[0;34m,\u001b[0m\u001b[0;34m\u001b[0m\u001b[0m\n\u001b[0;32m--> 996\u001b[0;31m             sample_weight=sample_weight)\n\u001b[0m\u001b[1;32m    997\u001b[0m \u001b[0;34m\u001b[0m\u001b[0m\n\u001b[1;32m    998\u001b[0m         \u001b[0mgcv_mode\u001b[0m \u001b[0;34m=\u001b[0m \u001b[0mself\u001b[0m\u001b[0;34m.\u001b[0m\u001b[0mgcv_mode\u001b[0m\u001b[0;34m\u001b[0m\u001b[0m\n",
      "\u001b[0;32m/Users/benpeloquin/anaconda/envs/py27/lib/python2.7/site-packages/sklearn/linear_model/base.pyc\u001b[0m in \u001b[0;36m_preprocess_data\u001b[0;34m(X, y, fit_intercept, normalize, copy, sample_weight, return_mean)\u001b[0m\n\u001b[1;32m    166\u001b[0m \u001b[0;34m\u001b[0m\u001b[0m\n\u001b[1;32m    167\u001b[0m     X = check_array(X, copy=copy, accept_sparse=['csr', 'csc'],\n\u001b[0;32m--> 168\u001b[0;31m                     dtype=FLOAT_DTYPES)\n\u001b[0m\u001b[1;32m    169\u001b[0m     \u001b[0my\u001b[0m \u001b[0;34m=\u001b[0m \u001b[0mnp\u001b[0m\u001b[0;34m.\u001b[0m\u001b[0masarray\u001b[0m\u001b[0;34m(\u001b[0m\u001b[0my\u001b[0m\u001b[0;34m,\u001b[0m \u001b[0mdtype\u001b[0m\u001b[0;34m=\u001b[0m\u001b[0mX\u001b[0m\u001b[0;34m.\u001b[0m\u001b[0mdtype\u001b[0m\u001b[0;34m)\u001b[0m\u001b[0;34m\u001b[0m\u001b[0m\n\u001b[1;32m    170\u001b[0m \u001b[0;34m\u001b[0m\u001b[0m\n",
      "\u001b[0;32m/Users/benpeloquin/anaconda/envs/py27/lib/python2.7/site-packages/sklearn/utils/validation.pyc\u001b[0m in \u001b[0;36mcheck_array\u001b[0;34m(array, accept_sparse, dtype, order, copy, force_all_finite, ensure_2d, allow_nd, ensure_min_samples, ensure_min_features, warn_on_dtype, estimator)\u001b[0m\n\u001b[1;32m    442\u001b[0m             \u001b[0marray\u001b[0m \u001b[0;34m=\u001b[0m \u001b[0mnp\u001b[0m\u001b[0;34m.\u001b[0m\u001b[0matleast_2d\u001b[0m\u001b[0;34m(\u001b[0m\u001b[0marray\u001b[0m\u001b[0;34m)\u001b[0m\u001b[0;34m\u001b[0m\u001b[0m\n\u001b[1;32m    443\u001b[0m             \u001b[0;31m# To ensure that array flags are maintained\u001b[0m\u001b[0;34m\u001b[0m\u001b[0;34m\u001b[0m\u001b[0m\n\u001b[0;32m--> 444\u001b[0;31m             \u001b[0marray\u001b[0m \u001b[0;34m=\u001b[0m \u001b[0mnp\u001b[0m\u001b[0;34m.\u001b[0m\u001b[0marray\u001b[0m\u001b[0;34m(\u001b[0m\u001b[0marray\u001b[0m\u001b[0;34m,\u001b[0m \u001b[0mdtype\u001b[0m\u001b[0;34m=\u001b[0m\u001b[0mdtype\u001b[0m\u001b[0;34m,\u001b[0m \u001b[0morder\u001b[0m\u001b[0;34m=\u001b[0m\u001b[0morder\u001b[0m\u001b[0;34m,\u001b[0m \u001b[0mcopy\u001b[0m\u001b[0;34m=\u001b[0m\u001b[0mcopy\u001b[0m\u001b[0;34m)\u001b[0m\u001b[0;34m\u001b[0m\u001b[0m\n\u001b[0m\u001b[1;32m    445\u001b[0m \u001b[0;34m\u001b[0m\u001b[0m\n\u001b[1;32m    446\u001b[0m         \u001b[0;31m# make sure we actually converted to numeric:\u001b[0m\u001b[0;34m\u001b[0m\u001b[0;34m\u001b[0m\u001b[0m\n",
      "\u001b[0;31mKeyboardInterrupt\u001b[0m: "
     ]
    }
   ],
   "source": [
    "d_results = []\n",
    "for sim_idx in tqdm.tqdm(range(n_sims)):\n",
    "    train_idxs, test_idxs = current_indices = \\\n",
    "            get_split_idxs(len(y), train_prop)\n",
    "    X_it_partial = get_random_sample(X_it, size=max_size)\n",
    "    datas.append((\"IT_partial\", X_it_partial))\n",
    "    for roi, X in datas:\n",
    "        # Partition into train and test\n",
    "        X_train = X[train_idxs, :]\n",
    "        y_train = y[train_idxs]\n",
    "        X_test = X[test_idxs, :]\n",
    "        y_test = y[test_idxs]\n",
    "        for model_nam, model in models:\n",
    "            # Fit model\n",
    "            train_perf, test_perf, _ = \\\n",
    "                run_model(model, X_train, y_train, X_test, y_test)\n",
    "\n",
    "            d_results.append({\n",
    "                \"sim_idx\": sim_idx,\n",
    "                \"model_name\": model_nam,\n",
    "                \"roi\": roi,\n",
    "                \"train_r2\": train_perf,\n",
    "                \"test_r2\": test_perf,\n",
    "                \"model_meta\": model.alpha_ if model_nam == \"ridge_cv\" else None\n",
    "            })\n",
    "\n",
    "df_results = pd.DataFrame(d_results)"
   ]
  },
  {
   "cell_type": "code",
   "execution_count": 26,
   "metadata": {},
   "outputs": [],
   "source": [
    "d_best = []\n",
    "for roi, group in (df_results \\\n",
    "    .groupby([\"model_name\", \"roi\"])[[\"test_r2\"]] \\\n",
    "    .aggregate({np.mean}) \\\n",
    "    .reset_index() \\\n",
    "    .groupby(\"roi\")):\n",
    "    best_idx = group['test_r2'].idxmax().values[0]\n",
    "    r2 = group[group.index==best_idx].test_r2.values[0][0]\n",
    "    model_name_ = group[group.index==best_idx].model_name.values[0]\n",
    "    d_best.append({\n",
    "        \"roi\": roi,\n",
    "        \"model\": model_name_,\n",
    "        \"r2\": r2\n",
    "    })\n",
    "df_best = pd.DataFrame(d_best)"
   ]
  },
  {
   "cell_type": "code",
   "execution_count": 27,
   "metadata": {},
   "outputs": [
    {
     "data": {
      "text/html": [
       "<div>\n",
       "<style scoped>\n",
       "    .dataframe tbody tr th:only-of-type {\n",
       "        vertical-align: middle;\n",
       "    }\n",
       "\n",
       "    .dataframe tbody tr th {\n",
       "        vertical-align: top;\n",
       "    }\n",
       "\n",
       "    .dataframe thead th {\n",
       "        text-align: right;\n",
       "    }\n",
       "</style>\n",
       "<table border=\"1\" class=\"dataframe\">\n",
       "  <thead>\n",
       "    <tr style=\"text-align: right;\">\n",
       "      <th></th>\n",
       "      <th>model</th>\n",
       "      <th>r2</th>\n",
       "      <th>roi</th>\n",
       "    </tr>\n",
       "  </thead>\n",
       "  <tbody>\n",
       "    <tr>\n",
       "      <th>0</th>\n",
       "      <td>ridge_100</td>\n",
       "      <td>0.372140</td>\n",
       "      <td>IT</td>\n",
       "    </tr>\n",
       "    <tr>\n",
       "      <th>1</th>\n",
       "      <td>ridge_10</td>\n",
       "      <td>0.313365</td>\n",
       "      <td>IT_partial</td>\n",
       "    </tr>\n",
       "    <tr>\n",
       "      <th>2</th>\n",
       "      <td>ridge_100</td>\n",
       "      <td>0.137637</td>\n",
       "      <td>V4</td>\n",
       "    </tr>\n",
       "  </tbody>\n",
       "</table>\n",
       "</div>"
      ],
      "text/plain": [
       "       model        r2         roi\n",
       "0  ridge_100  0.372140          IT\n",
       "1   ridge_10  0.313365  IT_partial\n",
       "2  ridge_100  0.137637          V4"
      ]
     },
     "execution_count": 27,
     "metadata": {},
     "output_type": "execute_result"
    }
   ],
   "source": [
    "df_best"
   ]
  },
  {
   "cell_type": "code",
   "execution_count": 28,
   "metadata": {},
   "outputs": [
    {
     "data": {
      "text/plain": [
       "[('IT', 'ridge_100'), ('IT_partial', 'ridge_10'), ('V4', 'ridge_100')]"
      ]
     },
     "execution_count": 28,
     "metadata": {},
     "output_type": "execute_result"
    }
   ],
   "source": [
    "best_models = zip(df_best.roi.values, df_best.model.values)\n",
    "best_models"
   ]
  },
  {
   "cell_type": "code",
   "execution_count": 29,
   "metadata": {},
   "outputs": [],
   "source": [
    "# Filter best models\n",
    "df_bests = pd.concat(\n",
    "    [df_results[(df_results.roi == roi) & (df_results.model_name==model)] for roi, model in best_models])"
   ]
  },
  {
   "cell_type": "code",
   "execution_count": 30,
   "metadata": {},
   "outputs": [],
   "source": [
    "df_bests[\"best_model_for_roi\"] = \\\n",
    "    df_bests.apply(lambda x: \"{}_{}\".format(x[\"roi\"], x[\"model_name\"]), axis=1)"
   ]
  },
  {
   "cell_type": "code",
   "execution_count": 31,
   "metadata": {},
   "outputs": [
    {
     "data": {
      "text/plain": [
       "Text(0.5,1,'Best model by ROI')"
      ]
     },
     "execution_count": 31,
     "metadata": {},
     "output_type": "execute_result"
    },
    {
     "data": {
      "image/png": "[encoded data removed]",
      "text/plain": [
       "<Figure size 720x360 with 1 Axes>"
      ]
     },
     "metadata": {
      "needs_background": "light"
     },
     "output_type": "display_data"
    }
   ],
   "source": [
    "plt.figure(figsize=(10, 5))\n",
    "sns.barplot(x=\"best_model_for_roi\", y=\"test_r2\", ci=95, data=df_bests)\n",
    "plt.xlabel(\"Best model and roi\")\n",
    "plt.ylabel(\"Test r^2\")\n",
    "plt.title(\"Best model by ROI\")"
   ]
  },
  {
   "cell_type": "markdown",
   "metadata": {},
   "source": [
    "#### 1.1.1.c  Ridge regression with RidgeCV"
   ]
  },
  {
   "cell_type": "markdown",
   "metadata": {},
   "source": [
    "Let's look at the alpha value found by RidgeCV in our runs above..."
   ]
  },
  {
   "cell_type": "code",
   "execution_count": 63,
   "metadata": {},
   "outputs": [
    {
     "data": {
      "text/html": [
       "<div>\n",
       "<style scoped>\n",
       "    .dataframe tbody tr th:only-of-type {\n",
       "        vertical-align: middle;\n",
       "    }\n",
       "\n",
       "    .dataframe tbody tr th {\n",
       "        vertical-align: top;\n",
       "    }\n",
       "\n",
       "    .dataframe thead tr th {\n",
       "        text-align: left;\n",
       "    }\n",
       "</style>\n",
       "<table border=\"1\" class=\"dataframe\">\n",
       "  <thead>\n",
       "    <tr>\n",
       "      <th></th>\n",
       "      <th>roi</th>\n",
       "      <th>model_meta</th>\n",
       "      <th colspan=\"3\" halign=\"left\">test_r2</th>\n",
       "    </tr>\n",
       "    <tr>\n",
       "      <th></th>\n",
       "      <th></th>\n",
       "      <th></th>\n",
       "      <th>count</th>\n",
       "      <th>mean</th>\n",
       "      <th>std</th>\n",
       "    </tr>\n",
       "  </thead>\n",
       "  <tbody>\n",
       "    <tr>\n",
       "      <th>0</th>\n",
       "      <td>IT</td>\n",
       "      <td>100.0</td>\n",
       "      <td>30</td>\n",
       "      <td>0.372140</td>\n",
       "      <td>0.023674</td>\n",
       "    </tr>\n",
       "    <tr>\n",
       "      <th>1</th>\n",
       "      <td>IT_partial</td>\n",
       "      <td>10.0</td>\n",
       "      <td>946</td>\n",
       "      <td>0.312394</td>\n",
       "      <td>0.030657</td>\n",
       "    </tr>\n",
       "    <tr>\n",
       "      <th>2</th>\n",
       "      <td>IT_partial</td>\n",
       "      <td>100.0</td>\n",
       "      <td>119</td>\n",
       "      <td>0.318450</td>\n",
       "      <td>0.026844</td>\n",
       "    </tr>\n",
       "    <tr>\n",
       "      <th>3</th>\n",
       "      <td>V4</td>\n",
       "      <td>10.0</td>\n",
       "      <td>1</td>\n",
       "      <td>0.106466</td>\n",
       "      <td>NaN</td>\n",
       "    </tr>\n",
       "    <tr>\n",
       "      <th>4</th>\n",
       "      <td>V4</td>\n",
       "      <td>100.0</td>\n",
       "      <td>29</td>\n",
       "      <td>0.138325</td>\n",
       "      <td>0.015176</td>\n",
       "    </tr>\n",
       "  </tbody>\n",
       "</table>\n",
       "</div>"
      ],
      "text/plain": [
       "          roi model_meta test_r2                    \n",
       "                           count      mean       std\n",
       "0          IT      100.0      30  0.372140  0.023674\n",
       "1  IT_partial       10.0     946  0.312394  0.030657\n",
       "2  IT_partial      100.0     119  0.318450  0.026844\n",
       "3          V4       10.0       1  0.106466       NaN\n",
       "4          V4      100.0      29  0.138325  0.015176"
      ]
     },
     "execution_count": 63,
     "metadata": {},
     "output_type": "execute_result"
    }
   ],
   "source": [
    "df_results[~df_results['model_meta'].isnull()] \\\n",
    "    .groupby(['roi', 'model_meta'])[['test_r2']] \\\n",
    "    .aggregate({np.mean, np.std, 'count'}) \\\n",
    "    .reset_index()[['roi', 'model_meta', 'test_r2']]"
   ]
  },
  {
   "cell_type": "markdown",
   "metadata": {},
   "source": [
    "Yes, we basically have the exact same outcome as explicitly running grid search over alpha values."
   ]
  },
  {
   "cell_type": "markdown",
   "metadata": {},
   "source": [
    "### Question 1.1.2: Predicting neural responses from neural responses"
   ]
  },
  {
   "cell_type": "code",
   "execution_count": 111,
   "metadata": {},
   "outputs": [],
   "source": [
    "chabo_v4_idxs = set(v4_idxs) & set(chabo_idxs)\n",
    "tito_v4_idxs = set(v4_idxs) & set(tito_idxs[:-40])\n",
    "\n",
    "# Only good v4 from both animal\n",
    "X_chabo_v4 = d_ventral['time_averaged_trial_averaged'][:, chabo_v4_idxs]\n",
    "X_tito_v4 = d_ventral['time_averaged_trial_averaged'][:, tito_v4_idxs] "
   ]
  },
  {
   "cell_type": "markdown",
   "metadata": {},
   "source": [
    "Let's predict `tito` from `chabo`."
   ]
  },
  {
   "cell_type": "code",
   "execution_count": 122,
   "metadata": {},
   "outputs": [],
   "source": [
    "n_sims = 30\n",
    "train_prob = 0.8\n",
    "max_size = None\n",
    "alphas = [1e-7, 1e-5, 1e-3, 1e-2, 1e-1, 1, 10, 100]\n",
    "n_components = [2**x for x in range(1, 7)]\n",
    "models = [(\"ridge\", RidgeCV(alphas=alphas)), (\"lasso\", LassoCV(alphas=alphas))]\n",
    "pls_models = [(\"pls_{}\".format(nc), PLSRegression(n_components=nc)) for nc in n_components]\n",
    "models.extend(pls_models)"
   ]
  },
  {
   "cell_type": "code",
   "execution_count": 123,
   "metadata": {},
   "outputs": [
    {
     "data": {
      "text/plain": [
       "0.35192485287492736"
      ]
     },
     "execution_count": 123,
     "metadata": {},
     "output_type": "execute_result"
    }
   ],
   "source": [
    "X.shape\n",
    "y.shape\n",
    "temp_m = PLSRegression().fit(X, y)\n",
    "r_squared(temp_m.predict(X).squeeze(), y)\n"
   ]
  },
  {
   "cell_type": "code",
   "execution_count": 124,
   "metadata": {},
   "outputs": [
    {
     "name": "stderr",
     "output_type": "stream",
     "text": [
      "100%|██████████| 30/30 [00:06<00:00,  4.49it/s]\n"
     ]
    }
   ],
   "source": [
    "import warnings\n",
    "warnings.filterwarnings('ignore')\n",
    "\n",
    "y = X_tito_v4[:, 0]\n",
    "X = X_chabo_v4\n",
    "d_results3 = []\n",
    "for sim_idx in tqdm.tqdm(range(n_sims)):\n",
    "    train_idxs, test_idxs = current_indices = \\\n",
    "            get_split_idxs(len(y), train_prop)\n",
    "    for model_name, model in models:\n",
    "        # Partition into train and test\n",
    "        X_train = X[train_idxs, :]\n",
    "        y_train = y[train_idxs]\n",
    "        X_test = X[test_idxs, :]\n",
    "        y_test = y[test_idxs]\n",
    "        train_perf, test_perf, model_ = \\\n",
    "            run_model(model, X_train, y_train, X_test, y_test)\n",
    "\n",
    "        d_results3.append({\n",
    "            \"sim_idx\": sim_idx,\n",
    "            \"model_name\": model_name,\n",
    "            \"hyperparam\": model_.alpha_ \\\n",
    "                if model_name[:3] != 'pls' \\\n",
    "                else model_name.split(\"_\")[-1],\n",
    "            \"train_r2\": train_perf,\n",
    "            \"test_r2\": test_perf\n",
    "        })\n",
    "\n",
    "df_results3 = pd.DataFrame(d_results3)"
   ]
  },
  {
   "cell_type": "code",
   "execution_count": 125,
   "metadata": {},
   "outputs": [
    {
     "data": {
      "text/html": [
       "<div>\n",
       "<style scoped>\n",
       "    .dataframe tbody tr th:only-of-type {\n",
       "        vertical-align: middle;\n",
       "    }\n",
       "\n",
       "    .dataframe tbody tr th {\n",
       "        vertical-align: top;\n",
       "    }\n",
       "\n",
       "    .dataframe thead th {\n",
       "        text-align: right;\n",
       "    }\n",
       "</style>\n",
       "<table border=\"1\" class=\"dataframe\">\n",
       "  <thead>\n",
       "    <tr style=\"text-align: right;\">\n",
       "      <th></th>\n",
       "      <th>model_name</th>\n",
       "      <th>hyperparam</th>\n",
       "      <th>count</th>\n",
       "      <th>mean</th>\n",
       "      <th>std</th>\n",
       "    </tr>\n",
       "  </thead>\n",
       "  <tbody>\n",
       "    <tr>\n",
       "      <th>0</th>\n",
       "      <td>lasso</td>\n",
       "      <td>1e-05</td>\n",
       "      <td>4</td>\n",
       "      <td>0.410786</td>\n",
       "      <td>0.029130</td>\n",
       "    </tr>\n",
       "    <tr>\n",
       "      <th>1</th>\n",
       "      <td>lasso</td>\n",
       "      <td>0.001</td>\n",
       "      <td>25</td>\n",
       "      <td>0.401317</td>\n",
       "      <td>0.016874</td>\n",
       "    </tr>\n",
       "    <tr>\n",
       "      <th>2</th>\n",
       "      <td>lasso</td>\n",
       "      <td>0.01</td>\n",
       "      <td>1</td>\n",
       "      <td>0.353615</td>\n",
       "      <td>NaN</td>\n",
       "    </tr>\n",
       "    <tr>\n",
       "      <th>3</th>\n",
       "      <td>pls_16</td>\n",
       "      <td>16</td>\n",
       "      <td>30</td>\n",
       "      <td>0.408725</td>\n",
       "      <td>0.019135</td>\n",
       "    </tr>\n",
       "    <tr>\n",
       "      <th>4</th>\n",
       "      <td>pls_2</td>\n",
       "      <td>2</td>\n",
       "      <td>30</td>\n",
       "      <td>0.346155</td>\n",
       "      <td>0.021519</td>\n",
       "    </tr>\n",
       "    <tr>\n",
       "      <th>5</th>\n",
       "      <td>pls_32</td>\n",
       "      <td>32</td>\n",
       "      <td>30</td>\n",
       "      <td>0.408674</td>\n",
       "      <td>0.019122</td>\n",
       "    </tr>\n",
       "    <tr>\n",
       "      <th>6</th>\n",
       "      <td>pls_4</td>\n",
       "      <td>4</td>\n",
       "      <td>30</td>\n",
       "      <td>0.391469</td>\n",
       "      <td>0.017771</td>\n",
       "    </tr>\n",
       "    <tr>\n",
       "      <th>7</th>\n",
       "      <td>pls_64</td>\n",
       "      <td>64</td>\n",
       "      <td>30</td>\n",
       "      <td>0.408674</td>\n",
       "      <td>0.019122</td>\n",
       "    </tr>\n",
       "    <tr>\n",
       "      <th>8</th>\n",
       "      <td>pls_8</td>\n",
       "      <td>8</td>\n",
       "      <td>30</td>\n",
       "      <td>0.407904</td>\n",
       "      <td>0.019004</td>\n",
       "    </tr>\n",
       "    <tr>\n",
       "      <th>9</th>\n",
       "      <td>ridge</td>\n",
       "      <td>10</td>\n",
       "      <td>30</td>\n",
       "      <td>0.409276</td>\n",
       "      <td>0.018931</td>\n",
       "    </tr>\n",
       "  </tbody>\n",
       "</table>\n",
       "</div>"
      ],
      "text/plain": [
       "  model_name hyperparam  count      mean       std\n",
       "0      lasso      1e-05      4  0.410786  0.029130\n",
       "1      lasso      0.001     25  0.401317  0.016874\n",
       "2      lasso       0.01      1  0.353615       NaN\n",
       "3     pls_16         16     30  0.408725  0.019135\n",
       "4      pls_2          2     30  0.346155  0.021519\n",
       "5     pls_32         32     30  0.408674  0.019122\n",
       "6      pls_4          4     30  0.391469  0.017771\n",
       "7     pls_64         64     30  0.408674  0.019122\n",
       "8      pls_8          8     30  0.407904  0.019004\n",
       "9      ridge         10     30  0.409276  0.018931"
      ]
     },
     "execution_count": 125,
     "metadata": {},
     "output_type": "execute_result"
    }
   ],
   "source": [
    "df_results3 \\\n",
    "    .groupby([\"model_name\", \"hyperparam\"])[\"test_r2\"] \\\n",
    "    .aggregate({np.mean, np.std, \"count\"}) \\\n",
    "    .reset_index()"
   ]
  },
  {
   "cell_type": "markdown",
   "metadata": {},
   "source": [
    "* Lasso\n",
    "\n",
    "The last time we ran this `1e-3` had the second highest mean value, but was most often found to have the best r^2 value. So we're going to set the best Lasso to `1e-3`.\n",
    "* Ridge\n",
    "\n",
    "Clearly it's `10` for Ridge.\n",
    "\n",
    "* PLS\n",
    "\n",
    "It's hard to differentiate for the various `n_components` as they're all quite close. If we just choose the argmax for r^2 we'd go with `n_components=16`."
   ]
  },
  {
   "cell_type": "code",
   "execution_count": 126,
   "metadata": {},
   "outputs": [],
   "source": [
    "best_ridge = Ridge(alpha=10)\n",
    "best_lasso = Lasso(alpha=1e-3)\n",
    "best_pls = PLSRegression(n_components=16)\n",
    "models = [(\"ridge\", best_ridge), (\"lasso\", best_lasso), (\"pls\", best_pls)]"
   ]
  },
  {
   "cell_type": "code",
   "execution_count": 128,
   "metadata": {},
   "outputs": [
    {
     "name": "stderr",
     "output_type": "stream",
     "text": [
      "100%|██████████| 100/100 [00:03<00:00, 23.19it/s]\n"
     ]
    }
   ],
   "source": [
    "n_sims = 100\n",
    "train_prop = 0.8\n",
    "d_bests = []\n",
    "for sim_idx in tqdm.tqdm(range(n_sims)):\n",
    "    train_idxs, test_idxs = current_indices = \\\n",
    "            get_split_idxs(len(y), train_prop)\n",
    "    for model_name, model in models:\n",
    "        # Partition into train and test\n",
    "        X_train = X[train_idxs, :]\n",
    "        y_train = y[train_idxs]\n",
    "        X_test = X[test_idxs, :]\n",
    "        y_test = y[test_idxs]\n",
    "        train_perf, test_perf, model_ = \\\n",
    "            run_model(model, X_train, y_train, X_test, y_test)\n",
    "\n",
    "        d_bests.append({\n",
    "            \"sim_idx\": sim_idx,\n",
    "            \"model_name\": model_name,\n",
    "            \"train_r2\": train_perf,\n",
    "            \"test_r2\": test_perf\n",
    "        })\n",
    "df_bests = pd.DataFrame(d_bests)"
   ]
  },
  {
   "cell_type": "code",
   "execution_count": 130,
   "metadata": {},
   "outputs": [
    {
     "data": {
      "text/plain": [
       "<matplotlib.axes._subplots.AxesSubplot at 0x1a21953890>"
      ]
     },
     "execution_count": 130,
     "metadata": {},
     "output_type": "execute_result"
    },
    {
     "data": {
      "image/png": "[encoded data removed]",
      "text/plain": [
       "<Figure size 432x288 with 1 Axes>"
      ]
     },
     "metadata": {
      "needs_background": "light"
     },
     "output_type": "display_data"
    }
   ],
   "source": [
    "sns.barplot(x='model_name', y='test_r2', ci=95, data=df_bests)"
   ]
  },
  {
   "cell_type": "code",
   "execution_count": 133,
   "metadata": {},
   "outputs": [
    {
     "data": {
      "text/html": [
       "<div>\n",
       "<style scoped>\n",
       "    .dataframe tbody tr th:only-of-type {\n",
       "        vertical-align: middle;\n",
       "    }\n",
       "\n",
       "    .dataframe tbody tr th {\n",
       "        vertical-align: top;\n",
       "    }\n",
       "\n",
       "    .dataframe thead tr th {\n",
       "        text-align: left;\n",
       "    }\n",
       "\n",
       "    .dataframe thead tr:last-of-type th {\n",
       "        text-align: right;\n",
       "    }\n",
       "</style>\n",
       "<table border=\"1\" class=\"dataframe\">\n",
       "  <thead>\n",
       "    <tr>\n",
       "      <th></th>\n",
       "      <th colspan=\"2\" halign=\"left\">test_r2</th>\n",
       "    </tr>\n",
       "    <tr>\n",
       "      <th></th>\n",
       "      <th>mean</th>\n",
       "      <th>std</th>\n",
       "    </tr>\n",
       "    <tr>\n",
       "      <th>model_name</th>\n",
       "      <th></th>\n",
       "      <th></th>\n",
       "    </tr>\n",
       "  </thead>\n",
       "  <tbody>\n",
       "    <tr>\n",
       "      <th>lasso</th>\n",
       "      <td>0.397518</td>\n",
       "      <td>0.018949</td>\n",
       "    </tr>\n",
       "    <tr>\n",
       "      <th>pls</th>\n",
       "      <td>0.401387</td>\n",
       "      <td>0.020286</td>\n",
       "    </tr>\n",
       "    <tr>\n",
       "      <th>ridge</th>\n",
       "      <td>0.402317</td>\n",
       "      <td>0.020028</td>\n",
       "    </tr>\n",
       "  </tbody>\n",
       "</table>\n",
       "</div>"
      ],
      "text/plain": [
       "             test_r2          \n",
       "                mean       std\n",
       "model_name                    \n",
       "lasso       0.397518  0.018949\n",
       "pls         0.401387  0.020286\n",
       "ridge       0.402317  0.020028"
      ]
     },
     "execution_count": 133,
     "metadata": {},
     "output_type": "execute_result"
    }
   ],
   "source": [
    "df_bests \\\n",
    "    .groupby('model_name')[['test_r2']] \\\n",
    "    .aggregate({np.mean, np.std})"
   ]
  },
  {
   "cell_type": "markdown",
   "metadata": {},
   "source": [
    "Ridge appears to win out, but there really appear indistinguishable. Let's run a one-way anova to test for a significant difference between models..."
   ]
  },
  {
   "cell_type": "code",
   "execution_count": 136,
   "metadata": {},
   "outputs": [
    {
     "data": {
      "text/plain": [
       "F_onewayResult(statistic=1.658233368747138, pvalue=0.19223372249092782)"
      ]
     },
     "execution_count": 136,
     "metadata": {},
     "output_type": "execute_result"
    }
   ],
   "source": [
    "f_oneway(df_bests[df_bests['model_name']=='lasso'].test_r2, \n",
    "         df_bests[df_bests['model_name']=='ridge'].test_r2,\n",
    "         df_bests[df_bests['model_name']=='pls'].test_r2)"
   ]
  },
  {
   "cell_type": "markdown",
   "metadata": {},
   "source": [
    "Doesn't appear to be a significant difference."
   ]
  },
  {
   "cell_type": "markdown",
   "metadata": {},
   "source": [
    "## Question 1.2: Regression in self-regulation ontology data"
   ]
  },
  {
   "cell_type": "markdown",
   "metadata": {},
   "source": [
    "#### 1.2.1 Data explanation"
   ]
  },
  {
   "cell_type": "markdown",
   "metadata": {},
   "source": [
    "#### 1.2.2 Reliability of task and survey measures"
   ]
  },
  {
   "cell_type": "code",
   "execution_count": null,
   "metadata": {},
   "outputs": [],
   "source": []
  },
  {
   "cell_type": "code",
   "execution_count": null,
   "metadata": {},
   "outputs": [],
   "source": []
  }
 ],
 "metadata": {
  "kernelspec": {
   "display_name": "Python 2",
   "language": "python",
   "name": "python2"
  },
  "language_info": {
   "codemirror_mode": {
    "name": "ipython",
    "version": 2
   },
   "file_extension": ".py",
   "mimetype": "text/x-python",
   "name": "python",
   "nbconvert_exporter": "python",
   "pygments_lexer": "ipython2",
   "version": "2.7.15"
  }
 },
 "nbformat": 4,
 "nbformat_minor": 2
}
